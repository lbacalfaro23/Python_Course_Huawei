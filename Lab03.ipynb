{
 "cells": [
  {
   "cell_type": "markdown",
   "id": "3d89a845",
   "metadata": {},
   "source": [
    "# 3. Control Flow Statement\n",
    "\n",
    "The if, while and for statements implement traditional control flow constructs.\n"
   ]
  },
  {
   "cell_type": "markdown",
   "id": "5c57f5cb",
   "metadata": {},
   "source": [
    "## 3.3 if statement\n",
    "\n",
    "The if statement is used for conditional execution\n",
    "\n",
    "It selects exactly one of the suites by evaluating the expressions one by one until one is found to be true; then that suite is executed(and no other part of the if statement is executed or evaluated). If all expressions are false, the suite of the else clause, if present, is executed.\n",
    "\n",
    "There can be zero or more elif parts, and the else part is optional. The keyword 'elif' is short for ' else if', and is useful to avoid excessive indentation.\n",
    "\n",
    "An if ...elif ... elif sequence is a substitute for the switch or case statements found in other languages.\n",
    "\n",
    "determine the grade by scores."
   ]
  },
  {
   "cell_type": "code",
   "execution_count": 6,
   "id": "1ec18ef0",
   "metadata": {},
   "outputs": [
    {
     "name": "stdout",
     "output_type": "stream",
     "text": [
      "Please enter a score: 78\n"
     ]
    }
   ],
   "source": [
    "score = input(\"Please enter a score: \") # here input is a string"
   ]
  },
  {
   "cell_type": "code",
   "execution_count": 7,
   "id": "2ea06bd7",
   "metadata": {},
   "outputs": [
    {
     "data": {
      "text/plain": [
       "str"
      ]
     },
     "execution_count": 7,
     "metadata": {},
     "output_type": "execute_result"
    }
   ],
   "source": [
    "type(score)"
   ]
  },
  {
   "cell_type": "code",
   "execution_count": 8,
   "id": "b4230e02",
   "metadata": {},
   "outputs": [],
   "source": [
    "score = float(score)"
   ]
  },
  {
   "cell_type": "code",
   "execution_count": 9,
   "id": "ee94efc9",
   "metadata": {},
   "outputs": [
    {
     "name": "stdout",
     "output_type": "stream",
     "text": [
      "A\n"
     ]
    }
   ],
   "source": [
    "if 100>=score>=60:\n",
    "    print(\"A\")\n",
    "else:\n",
    "    print(\"F\")"
   ]
  },
  {
   "cell_type": "code",
   "execution_count": 10,
   "id": "21fa56fb",
   "metadata": {},
   "outputs": [
    {
     "name": "stdout",
     "output_type": "stream",
     "text": [
      "C\n"
     ]
    }
   ],
   "source": [
    "if 100>=score>=90: #set conditions by if-elif-else statements\n",
    "    print(\"A\")\n",
    "elif 90>score>=80:\n",
    "    print(\"B\")\n",
    "elif 80>score>=60:\n",
    "    print(\"C\")\n",
    "elif 60>score>=0:\n",
    "    print(\"F\")\n",
    "else:\n",
    "    print(\"Please enter a correct score\")"
   ]
  },
  {
   "cell_type": "markdown",
   "id": "d76e527f",
   "metadata": {},
   "source": [
    "The condition can be True or False, 0 and None value are also False, while the other values are True."
   ]
  },
  {
   "cell_type": "code",
   "execution_count": 11,
   "id": "8bf96c8b",
   "metadata": {},
   "outputs": [
    {
     "name": "stdout",
     "output_type": "stream",
     "text": [
      "T\n",
      "python\n"
     ]
    }
   ],
   "source": [
    "if 0:\n",
    "    print(\"F\")\n",
    "if 1:\n",
    "    print(\"T\")\n",
    "if \"PYTHON\":\n",
    "    print(\"python\")\n",
    "if None:\n",
    "    print(\"None\")"
   ]
  },
  {
   "cell_type": "markdown",
   "id": "0557a7f7",
   "metadata": {},
   "source": [
    "## 3.2 Loops\n",
    "\n",
    "### 3.2.1 While loop\n",
    "\n",
    "The while statement is used for repeated execution as long as an expression is true. It's used when we don't know the number of time to iterate beforehand.\n",
    "\n",
    "A break statement executed in the first suite terminates the loop without executing the else clause's suite.\n",
    "\n",
    "A continue statement executed in the first suite skips the rest of the suite and goes back to testing the expression."
   ]
  },
  {
   "cell_type": "code",
   "execution_count": 12,
   "id": "b54b741c",
   "metadata": {},
   "outputs": [
    {
     "name": "stdout",
     "output_type": "stream",
     "text": [
      "1\n",
      "2\n",
      "3\n",
      "4\n",
      "5\n",
      "6\n",
      "7\n",
      "8\n",
      "9\n",
      "loops end\n"
     ]
    }
   ],
   "source": [
    "i = 0\n",
    "while i<9:\n",
    "    i+=1\n",
    "    print(i)\n",
    "else: \n",
    "    print(\"loops end\")"
   ]
  },
  {
   "cell_type": "code",
   "execution_count": 13,
   "id": "8f954f4d",
   "metadata": {},
   "outputs": [
    {
     "name": "stdout",
     "output_type": "stream",
     "text": [
      "1\n",
      "2\n",
      "Skip this loop\n",
      "4\n",
      "5\n",
      "6\n",
      "7\n",
      "8\n",
      "9\n",
      "loops end\n"
     ]
    }
   ],
   "source": [
    "i = 0\n",
    "while i<9:\n",
    "    i+=1\n",
    "    if i == 3:\n",
    "        print(\"Skip this loop\")\n",
    "        continue # skips the rest of the suite and goes back to testing the expression\n",
    "    print(i)\n",
    "else: \n",
    "    print(\"loops end\")"
   ]
  },
  {
   "cell_type": "code",
   "execution_count": 14,
   "id": "8251009e",
   "metadata": {},
   "outputs": [
    {
     "name": "stdout",
     "output_type": "stream",
     "text": [
      "1\n",
      "2\n",
      "3\n",
      "4\n",
      "terminates the loop\n"
     ]
    }
   ],
   "source": [
    "i = 0\n",
    "while i<9:\n",
    "    i+=1\n",
    "    if i == 5:\n",
    "        print(\"terminates the loop\")\n",
    "        break # terminates the loop without executing the else clause's suite\n",
    "    print(i)\n",
    "else: \n",
    "    print(\"loops end\")"
   ]
  },
  {
   "cell_type": "markdown",
   "id": "3683cd9d",
   "metadata": {},
   "source": [
    "### 3.2.2 for loop\n",
    "\n",
    "The for statement is used to iterate over the elements of a sequence (such as string, tuple or list) or other iterable object."
   ]
  },
  {
   "cell_type": "code",
   "execution_count": 15,
   "id": "6d5c1e74",
   "metadata": {},
   "outputs": [
    {
     "name": "stdout",
     "output_type": "stream",
     "text": [
      "first\n",
      "second\n",
      "third\n"
     ]
    }
   ],
   "source": [
    "times = [\"first\", \"second\", \"third\"]\n",
    "for i in times:\n",
    "    print(i)"
   ]
  },
  {
   "cell_type": "markdown",
   "id": "d8a24b60",
   "metadata": {},
   "source": [
    "Else stament can bee added in the end of for statement. It will be executed when loop normally ends."
   ]
  },
  {
   "cell_type": "code",
   "execution_count": 16,
   "id": "ea4fe45b",
   "metadata": {},
   "outputs": [
    {
     "name": "stdout",
     "output_type": "stream",
     "text": [
      "first\n",
      "second\n",
      "third\n",
      "The loop ends\n"
     ]
    }
   ],
   "source": [
    "for i in times:\n",
    "    print(i)\n",
    "else:\n",
    "    print(\"The loop ends\")"
   ]
  },
  {
   "cell_type": "markdown",
   "id": "07d44188",
   "metadata": {},
   "source": [
    "### 3.2.3 Nested Loops\n",
    "\n",
    "Loops can be nested in Python. A nested loop is a loop that occurs within another loop. Nested loop go over two or more loops."
   ]
  },
  {
   "cell_type": "code",
   "execution_count": 22,
   "id": "ef835f55",
   "metadata": {},
   "outputs": [
    {
     "name": "stdout",
     "output_type": "stream",
     "text": [
      "1\n",
      "2\n"
     ]
    }
   ],
   "source": [
    "for i in range(1,3):\n",
    "    print(i)"
   ]
  },
  {
   "cell_type": "code",
   "execution_count": 23,
   "id": "8e5d2a47",
   "metadata": {
    "scrolled": true
   },
   "outputs": [
    {
     "name": "stdout",
     "output_type": "stream",
     "text": [
      "1X1=1  \n",
      "1X2=2  2X2=4  \n",
      "1X3=3  2X3=6  3X3=9  \n",
      "1X4=4  2X4=8  3X4=12 4X4=16 \n",
      "1X5=5  2X5=10 3X5=15 4X5=20 5X5=25 \n",
      "1X6=6  2X6=12 3X6=18 4X6=24 5X6=30 6X6=36 \n",
      "1X7=7  2X7=14 3X7=21 4X7=28 5X7=35 6X7=42 7X7=49 \n",
      "1X8=8  2X8=16 3X8=24 4X8=32 5X8=40 6X8=48 7X8=56 8X8=64 \n",
      "1X9=9  2X9=18 3X9=27 4X9=36 5X9=45 6X9=54 7X9=63 8X9=72 9X9=81 \n"
     ]
    }
   ],
   "source": [
    "# write a multiplication table\n",
    "for i in range(1,10): # a outer loop\n",
    "    for j in range(1,i+1):# a inner loop\n",
    "        # string formatting\n",
    "        print(\"%dX%d=%-2s\"%(j,i,j*i), end =' ' )\n",
    "    print()"
   ]
  },
  {
   "cell_type": "markdown",
   "id": "b030b830",
   "metadata": {},
   "source": []
  }
 ],
 "metadata": {
  "kernelspec": {
   "display_name": "Python 3 (ipykernel)",
   "language": "python",
   "name": "python3"
  },
  "language_info": {
   "codemirror_mode": {
    "name": "ipython",
    "version": 3
   },
   "file_extension": ".py",
   "mimetype": "text/x-python",
   "name": "python",
   "nbconvert_exporter": "python",
   "pygments_lexer": "ipython3",
   "version": "3.7.0"
  }
 },
 "nbformat": 4,
 "nbformat_minor": 5
}
