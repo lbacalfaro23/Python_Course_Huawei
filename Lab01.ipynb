{
 "cells": [
  {
   "cell_type": "markdown",
   "id": "14f85d8f",
   "metadata": {},
   "source": [
    "# 1. Python Basic\n",
    "\n",
    "## 1.1 Hello World\n",
    "\n",
    "We will use the print() function to print our first python program: hello world\n",
    "\n",
    "Here, 'hello world' is a string, a sequence of characters. In python, strings are enclosed in single quotes, double quotes, or triple quotes."
   ]
  },
  {
   "cell_type": "code",
   "execution_count": 4,
   "id": "f4a99a6a",
   "metadata": {},
   "outputs": [
    {
     "name": "stdout",
     "output_type": "stream",
     "text": [
      "Hello World\n",
      "Hello World\n"
     ]
    }
   ],
   "source": [
    "print('Hello World')\n",
    "print(\"Hello World\")"
   ]
  },
  {
   "cell_type": "code",
   "execution_count": 3,
   "id": "9ac6892a",
   "metadata": {},
   "outputs": [
    {
     "name": "stdout",
     "output_type": "stream",
     "text": [
      "Hello \n",
      "\n",
      "\n",
      "World\n"
     ]
    }
   ],
   "source": [
    "#triple quotes allows the string to span multiple lines\n",
    "print(\"\"\"Hello \n",
    "\n",
    "\n",
    "World\"\"\")"
   ]
  },
  {
   "cell_type": "code",
   "execution_count": 5,
   "id": "00faf3af",
   "metadata": {},
   "outputs": [
    {
     "ename": "SyntaxError",
     "evalue": "EOL while scanning string literal (3129726893.py, line 1)",
     "output_type": "error",
     "traceback": [
      "\u001b[1;36m  File \u001b[1;32m\"C:\\Users\\LUIS\\AppData\\Local\\Temp\\ipykernel_13240\\3129726893.py\"\u001b[1;36m, line \u001b[1;32m1\u001b[0m\n\u001b[1;33m    print(\"Hello\u001b[0m\n\u001b[1;37m                ^\u001b[0m\n\u001b[1;31mSyntaxError\u001b[0m\u001b[1;31m:\u001b[0m EOL while scanning string literal\n"
     ]
    }
   ],
   "source": [
    "print(\"Hello\n",
    "      \n",
    "      \n",
    "      \n",
    "WORLD\")"
   ]
  },
  {
   "cell_type": "markdown",
   "id": "f9162f60",
   "metadata": {},
   "source": [
    "# 1.2 Comments\n",
    "\n",
    " Comments are very important while writing a program that explains the codes in lines for programmers to better understand a program.\n",
    "\n",
    " In python, we use the hash (#) symbol to star writing a comment. Python interpreter ignores comments during execution.\n",
    "\n",
    " . # for one line\n",
    "\n",
    "We can have comments that extend up to multiple lines. One way is yo use the hash symbol at the beginning of each line. Another way of doing this is to use triple quotes, either ''' or \"\"\n",
    "\n",
    " . ''' ''' for multiple lines"
   ]
  },
  {
   "cell_type": "code",
   "execution_count": 6,
   "id": "307b5e4f",
   "metadata": {},
   "outputs": [
    {
     "name": "stdout",
     "output_type": "stream",
     "text": [
      "Hello World\n"
     ]
    }
   ],
   "source": [
    "print(\"Hello World\") # this is a comment"
   ]
  },
  {
   "cell_type": "code",
   "execution_count": 7,
   "id": "3e065e7e",
   "metadata": {},
   "outputs": [
    {
     "name": "stdout",
     "output_type": "stream",
     "text": [
      "Hello World\n"
     ]
    }
   ],
   "source": [
    "\"\"\"\n",
    "Triple quotes\n",
    "for\n",
    "multiples\n",
    "lines\n",
    "\"\"\"\n",
    "print(\"Hello World\")\n",
    "\n"
   ]
  },
  {
   "cell_type": "markdown",
   "id": "2772338f",
   "metadata": {},
   "source": [
    "## 1.3 Packages and modules\n",
    "\n",
    "Python has packages and modules. A module is a file containing Python code. A package is like a directory that contains sub-packages and modules. A library contains multiple modules.\n",
    "\n",
    "As our application program grows larger in size with a lot of modules, we place similar modules in one package and different modules in differents packages . This makes a project (program) easy to manage and conceptually clear.\n",
    "\n",
    "Python package can have sub-packages and modules.\n",
    "\n",
    "To use these package and modules in python:\n",
    " .Import\n",
    " . from ... import ..."
   ]
  },
  {
   "cell_type": "code",
   "execution_count": 8,
   "id": "56e9025e",
   "metadata": {},
   "outputs": [
    {
     "data": {
      "text/plain": [
       "'C:\\\\Users\\\\LUIS\\\\Python_Course_Huawei'"
      ]
     },
     "execution_count": 8,
     "metadata": {},
     "output_type": "execute_result"
    }
   ],
   "source": [
    "import os  # import os module\n",
    "os.getcwd() # get the current working directory"
   ]
  },
  {
   "cell_type": "code",
   "execution_count": 9,
   "id": "7177d77b",
   "metadata": {},
   "outputs": [
    {
     "data": {
      "text/plain": [
       "'C:\\\\Users\\\\LUIS\\\\Python_Course_Huawei'"
      ]
     },
     "execution_count": 9,
     "metadata": {},
     "output_type": "execute_result"
    }
   ],
   "source": [
    "from os import getcwd # import getcwd method from os module\n",
    "getcwd()"
   ]
  },
  {
   "cell_type": "raw",
   "id": "7e7eb757",
   "metadata": {},
   "source": [
    "if a package name is too complex to call, you can give it an alias."
   ]
  },
  {
   "cell_type": "code",
   "execution_count": 10,
   "id": "602d90f6",
   "metadata": {},
   "outputs": [
    {
     "data": {
      "text/plain": [
       "'Windows-10-10.0.19041-SP0'"
      ]
     },
     "execution_count": 10,
     "metadata": {},
     "output_type": "execute_result"
    }
   ],
   "source": [
    "import platform\n",
    "\n",
    "platform.platform()"
   ]
  },
  {
   "cell_type": "code",
   "execution_count": 11,
   "id": "4613952b",
   "metadata": {},
   "outputs": [
    {
     "data": {
      "text/plain": [
       "'Windows-10-10.0.19041-SP0'"
      ]
     },
     "execution_count": 11,
     "metadata": {},
     "output_type": "execute_result"
    }
   ],
   "source": [
    "import platform as pf\n",
    "pf.platform()"
   ]
  },
  {
   "cell_type": "markdown",
   "id": "9624de2a",
   "metadata": {},
   "source": [
    "## 1.4 Variables"
   ]
  },
  {
   "cell_type": "raw",
   "id": "27a4c7ab",
   "metadata": {},
   "source": [
    "Variables are containers for storing data values. A variable is a named location used to store data in the memory.\n",
    "\n",
    "Declaring and assigning value to a variable:"
   ]
  },
  {
   "cell_type": "code",
   "execution_count": 12,
   "id": "4d305e6f",
   "metadata": {},
   "outputs": [
    {
     "name": "stdout",
     "output_type": "stream",
     "text": [
      "1\n"
     ]
    }
   ],
   "source": [
    "a = 1\n",
    "print(a)"
   ]
  },
  {
   "cell_type": "markdown",
   "id": "f55bdff2",
   "metadata": {},
   "source": [
    "The value of a variable can be change later in the program"
   ]
  },
  {
   "cell_type": "code",
   "execution_count": 13,
   "id": "4f27f8b4",
   "metadata": {},
   "outputs": [
    {
     "name": "stdout",
     "output_type": "stream",
     "text": [
      "2\n"
     ]
    }
   ],
   "source": [
    "a = 2\n",
    "print(a)"
   ]
  },
  {
   "cell_type": "markdown",
   "id": "8ea40407",
   "metadata": {},
   "source": [
    "## 1.5 Naming rule and keywords\n",
    "\n",
    "### 1.5.1 Naming rule\n",
    "\n",
    "Variable name should have a combination of letters in lowercase (a to <) or uppercase( A to Z) or digits (0 to 9) or an underscore (_)"
   ]
  },
  {
   "cell_type": "code",
   "execution_count": 14,
   "id": "def88f73",
   "metadata": {},
   "outputs": [
    {
     "name": "stdout",
     "output_type": "stream",
     "text": [
      "1\n"
     ]
    }
   ],
   "source": [
    "aA9_ = 1\n",
    "print(aA9_)"
   ]
  },
  {
   "cell_type": "markdown",
   "id": "d4d9f221",
   "metadata": {},
   "source": [
    "Create a name that makes sense."
   ]
  },
  {
   "cell_type": "code",
   "execution_count": 15,
   "id": "e5ad98fa",
   "metadata": {},
   "outputs": [],
   "source": [
    "wasd = 100\n",
    "price = 100"
   ]
  },
  {
   "cell_type": "markdown",
   "id": "47bb242d",
   "metadata": {},
   "source": [
    "if you want to create a variable name having two words, use underscores to separate them"
   ]
  },
  {
   "cell_type": "code",
   "execution_count": 16,
   "id": "b634508e",
   "metadata": {},
   "outputs": [],
   "source": [
    "number_of_cats = 6"
   ]
  },
  {
   "cell_type": "markdown",
   "id": "b0735c3f",
   "metadata": {},
   "source": [
    "Don't start a variable name with a digit"
   ]
  },
  {
   "cell_type": "code",
   "execution_count": 17,
   "id": "4503453f",
   "metadata": {},
   "outputs": [
    {
     "ename": "SyntaxError",
     "evalue": "invalid syntax (1311808018.py, line 1)",
     "output_type": "error",
     "traceback": [
      "\u001b[1;36m  File \u001b[1;32m\"C:\\Users\\LUIS\\AppData\\Local\\Temp\\ipykernel_13240\\1311808018.py\"\u001b[1;36m, line \u001b[1;32m1\u001b[0m\n\u001b[1;33m    1a = 1 # incorrect variable names\u001b[0m\n\u001b[1;37m     ^\u001b[0m\n\u001b[1;31mSyntaxError\u001b[0m\u001b[1;31m:\u001b[0m invalid syntax\n"
     ]
    }
   ],
   "source": [
    "1a = 1 # incorrect variable names"
   ]
  },
  {
   "cell_type": "markdown",
   "id": "fe7e0805",
   "metadata": {},
   "source": [
    "### 1.5.2 Keywords\n",
    "\n",
    "Keyword are the reserved word in python. They cannot be used as ordinary identifiers and must be spelled exactly.\n",
    "\n",
    "There are 35 keywords in Python 3.7"
   ]
  },
  {
   "cell_type": "code",
   "execution_count": 18,
   "id": "6ac6fe65",
   "metadata": {},
   "outputs": [
    {
     "ename": "SyntaxError",
     "evalue": "invalid syntax (197606532.py, line 1)",
     "output_type": "error",
     "traceback": [
      "\u001b[1;36m  File \u001b[1;32m\"C:\\Users\\LUIS\\AppData\\Local\\Temp\\ipykernel_13240\\197606532.py\"\u001b[1;36m, line \u001b[1;32m1\u001b[0m\n\u001b[1;33m    def = 1 # When a variable name is a keyword\u001b[0m\n\u001b[1;37m        ^\u001b[0m\n\u001b[1;31mSyntaxError\u001b[0m\u001b[1;31m:\u001b[0m invalid syntax\n"
     ]
    }
   ],
   "source": [
    "def = 1 # When a variable name is a keyword"
   ]
  },
  {
   "cell_type": "code",
   "execution_count": 19,
   "id": "83f8f90f",
   "metadata": {},
   "outputs": [
    {
     "data": {
      "text/plain": [
       "['False',\n",
       " 'None',\n",
       " 'True',\n",
       " 'and',\n",
       " 'as',\n",
       " 'assert',\n",
       " 'async',\n",
       " 'await',\n",
       " 'break',\n",
       " 'class',\n",
       " 'continue',\n",
       " 'def',\n",
       " 'del',\n",
       " 'elif',\n",
       " 'else',\n",
       " 'except',\n",
       " 'finally',\n",
       " 'for',\n",
       " 'from',\n",
       " 'global',\n",
       " 'if',\n",
       " 'import',\n",
       " 'in',\n",
       " 'is',\n",
       " 'lambda',\n",
       " 'nonlocal',\n",
       " 'not',\n",
       " 'or',\n",
       " 'pass',\n",
       " 'raise',\n",
       " 'return',\n",
       " 'try',\n",
       " 'while',\n",
       " 'with',\n",
       " 'yield']"
      ]
     },
     "execution_count": 19,
     "metadata": {},
     "output_type": "execute_result"
    }
   ],
   "source": [
    "import keyword\n",
    "keyword.kwlist"
   ]
  },
  {
   "cell_type": "code",
   "execution_count": 20,
   "id": "24f3a717",
   "metadata": {},
   "outputs": [
    {
     "name": "stdout",
     "output_type": "stream",
     "text": [
      "\n",
      "Here is a list of the Python keywords.  Enter any keyword to get more help.\n",
      "\n",
      "False               class               from                or\n",
      "None                continue            global              pass\n",
      "True                def                 if                  raise\n",
      "and                 del                 import              return\n",
      "as                  elif                in                  try\n",
      "assert              else                is                  while\n",
      "async               except              lambda              with\n",
      "await               finally             nonlocal            yield\n",
      "break               for                 not                 \n",
      "\n"
     ]
    }
   ],
   "source": [
    "help(\"keywords\")"
   ]
  },
  {
   "cell_type": "markdown",
   "id": "6cfaa536",
   "metadata": {},
   "source": [
    "## 1.6 Switching values"
   ]
  },
  {
   "cell_type": "markdown",
   "id": "d06902aa",
   "metadata": {},
   "source": [
    "# "
   ]
  },
  {
   "cell_type": "code",
   "execution_count": 21,
   "id": "2cbd4cfb",
   "metadata": {},
   "outputs": [
    {
     "name": "stdout",
     "output_type": "stream",
     "text": [
      "1\n",
      "2\n"
     ]
    }
   ],
   "source": [
    "a = 1\n",
    "b = 2\n",
    "print(a)\n",
    "print(b)"
   ]
  },
  {
   "cell_type": "code",
   "execution_count": 22,
   "id": "6dbf40c1",
   "metadata": {},
   "outputs": [
    {
     "name": "stdout",
     "output_type": "stream",
     "text": [
      "2\n",
      "1\n"
     ]
    }
   ],
   "source": [
    "a,b = b,a\n",
    "print(a)\n",
    "print(b)"
   ]
  },
  {
   "cell_type": "markdown",
   "id": "232364d5",
   "metadata": {},
   "source": [
    "## 1.7 Execution Order in Python\n",
    "\n",
    "From top to bottom:"
   ]
  },
  {
   "cell_type": "code",
   "execution_count": 23,
   "id": "92857868",
   "metadata": {},
   "outputs": [
    {
     "ename": "NameError",
     "evalue": "name 'y' is not defined",
     "output_type": "error",
     "traceback": [
      "\u001b[1;31m---------------------------------------------------------------------------\u001b[0m",
      "\u001b[1;31mNameError\u001b[0m                                 Traceback (most recent call last)",
      "\u001b[1;32m~\\AppData\\Local\\Temp\\ipykernel_13240\\3550293795.py\u001b[0m in \u001b[0;36m<module>\u001b[1;34m\u001b[0m\n\u001b[0;32m      1\u001b[0m \u001b[0mx\u001b[0m \u001b[1;33m=\u001b[0m \u001b[1;36m0\u001b[0m\u001b[1;33m\u001b[0m\u001b[0m\n\u001b[1;32m----> 2\u001b[1;33m \u001b[0mprint\u001b[0m\u001b[1;33m(\u001b[0m\u001b[0mx\u001b[0m\u001b[1;33m+\u001b[0m\u001b[0my\u001b[0m\u001b[1;33m)\u001b[0m\u001b[1;33m\u001b[0m\u001b[0m\n\u001b[0m\u001b[0;32m      3\u001b[0m \u001b[0my\u001b[0m \u001b[1;33m=\u001b[0m \u001b[1;36m1\u001b[0m\u001b[1;33m\u001b[0m\u001b[0m\n",
      "\u001b[1;31mNameError\u001b[0m: name 'y' is not defined"
     ]
    }
   ],
   "source": [
    "x = 0\n",
    "print(x+y)\n",
    "y = 1"
   ]
  },
  {
   "cell_type": "markdown",
   "id": "422532df",
   "metadata": {},
   "source": [
    "## 1.8 Indentation\n",
    "\n",
    "A code block(body of a function, loop, etc) starts with indentation and ends with the first unindented line.\n",
    "\n",
    "The number of space to be indented is up to you, but must be consitent throughout that block.\n",
    "\n",
    "Identation make Python code look neat and clean, This also makes Python code look similiar an consistent."
   ]
  },
  {
   "cell_type": "code",
   "execution_count": 24,
   "id": "4937b90d",
   "metadata": {},
   "outputs": [],
   "source": [
    "def func1():\n",
    "    a = 1 # four spaces\n",
    "    b = 2"
   ]
  },
  {
   "cell_type": "code",
   "execution_count": 25,
   "id": "bc732816",
   "metadata": {},
   "outputs": [],
   "source": [
    "#use the same identation for all\n",
    "def func2():\n",
    "      a = 4 # six spaces\n",
    "      b = 3"
   ]
  },
  {
   "cell_type": "markdown",
   "id": "e2d0ccb5",
   "metadata": {},
   "source": [
    "## 1.9 Global Variable and Local Variable\n",
    "\n",
    "Global variables are variables declared in global scope(code block without indentation)\n",
    "\n",
    "Local variables are variables declared in local scope(code block with indentation)\n"
   ]
  },
  {
   "cell_type": "code",
   "execution_count": 26,
   "id": "dc2db73a",
   "metadata": {},
   "outputs": [
    {
     "name": "stdout",
     "output_type": "stream",
     "text": [
      "4\n"
     ]
    }
   ],
   "source": [
    "a = 1 # Global variables\n",
    "\n",
    "def func(): # define a function\n",
    "    f = 2 # local variables\n",
    "\n",
    "c = 3\n",
    "\n",
    "print(a+c)\n"
   ]
  },
  {
   "cell_type": "code",
   "execution_count": 27,
   "id": "b82a3ae9",
   "metadata": {},
   "outputs": [
    {
     "ename": "NameError",
     "evalue": "name 'f' is not defined",
     "output_type": "error",
     "traceback": [
      "\u001b[1;31m---------------------------------------------------------------------------\u001b[0m",
      "\u001b[1;31mNameError\u001b[0m                                 Traceback (most recent call last)",
      "\u001b[1;32m~\\AppData\\Local\\Temp\\ipykernel_13240\\1642183188.py\u001b[0m in \u001b[0;36m<module>\u001b[1;34m\u001b[0m\n\u001b[1;32m----> 1\u001b[1;33m \u001b[0mprint\u001b[0m\u001b[1;33m(\u001b[0m\u001b[0ma\u001b[0m\u001b[1;33m+\u001b[0m\u001b[0mf\u001b[0m\u001b[1;33m)\u001b[0m\u001b[1;33m\u001b[0m\u001b[0m\n\u001b[0m",
      "\u001b[1;31mNameError\u001b[0m: name 'f' is not defined"
     ]
    }
   ],
   "source": [
    "print(a+f)"
   ]
  },
  {
   "cell_type": "markdown",
   "id": "06980670",
   "metadata": {},
   "source": [
    "## 1.10 Standard I/O\n",
    "\n",
    "To read from standard input, use input() function.\n",
    "\n",
    "To write to standard output, use print() function."
   ]
  },
  {
   "cell_type": "code",
   "execution_count": 29,
   "id": "caea7ffc",
   "metadata": {},
   "outputs": [
    {
     "name": "stdout",
     "output_type": "stream",
     "text": [
      "input: holi\n",
      "holi\n"
     ]
    }
   ],
   "source": [
    "s = input(\"input: \")\n",
    "print(s)"
   ]
  },
  {
   "cell_type": "markdown",
   "id": "56af0951",
   "metadata": {},
   "source": [
    "## 1.11 Python Basic Functions\n",
    "\n",
    "### 1.11.1 help() function\n",
    "\n",
    "The python help function is used to display the documentation of modules, functions, classes, keywords etc"
   ]
  },
  {
   "cell_type": "code",
   "execution_count": 30,
   "id": "16bffe18",
   "metadata": {},
   "outputs": [
    {
     "name": "stdout",
     "output_type": "stream",
     "text": [
      "Help on built-in function print in module builtins:\n",
      "\n",
      "print(...)\n",
      "    print(value, ..., sep=' ', end='\\n', file=sys.stdout, flush=False)\n",
      "    \n",
      "    Prints the values to a stream, or to sys.stdout by default.\n",
      "    Optional keyword arguments:\n",
      "    file:  a file-like object (stream); defaults to the current sys.stdout.\n",
      "    sep:   string inserted between values, default a space.\n",
      "    end:   string appended after the last value, default a newline.\n",
      "    flush: whether to forcibly flush the stream.\n",
      "\n"
     ]
    }
   ],
   "source": [
    "help(print)"
   ]
  },
  {
   "cell_type": "code",
   "execution_count": 31,
   "id": "c3161932",
   "metadata": {},
   "outputs": [
    {
     "name": "stdout",
     "output_type": "stream",
     "text": [
      "Hola-"
     ]
    }
   ],
   "source": [
    "print(\"Hola\", end = '-')"
   ]
  },
  {
   "cell_type": "markdown",
   "id": "7dcbc5e0",
   "metadata": {},
   "source": [
    "### 1.11.2 id() function\n",
    "\n",
    "id function returns the \"identity\" of an object. This is an integer which is guaranteed to be unique and constant for this object during its lifetime"
   ]
  },
  {
   "cell_type": "code",
   "execution_count": 32,
   "id": "d0027430",
   "metadata": {},
   "outputs": [
    {
     "data": {
      "text/plain": [
       "2535914248232"
      ]
     },
     "execution_count": 32,
     "metadata": {},
     "output_type": "execute_result"
    }
   ],
   "source": [
    "a = 1\n",
    "id(print) ## result is the identity of variable \"a\""
   ]
  },
  {
   "cell_type": "markdown",
   "id": "06670279",
   "metadata": {},
   "source": [
    "### 1.11.3 type() function\n",
    "\n",
    "type function return the type of an object."
   ]
  },
  {
   "cell_type": "code",
   "execution_count": 33,
   "id": "de771d83",
   "metadata": {},
   "outputs": [
    {
     "data": {
      "text/plain": [
       "int"
      ]
     },
     "execution_count": 33,
     "metadata": {},
     "output_type": "execute_result"
    }
   ],
   "source": [
    "a = 1 \n",
    "type(a)"
   ]
  },
  {
   "cell_type": "markdown",
   "id": "147a4855",
   "metadata": {},
   "source": [
    "### 1.11.4 del() function\n",
    "\n",
    "del function deletes an object"
   ]
  },
  {
   "cell_type": "code",
   "execution_count": 34,
   "id": "4c1dfc45",
   "metadata": {},
   "outputs": [
    {
     "ename": "NameError",
     "evalue": "name 'a' is not defined",
     "output_type": "error",
     "traceback": [
      "\u001b[1;31m---------------------------------------------------------------------------\u001b[0m",
      "\u001b[1;31mNameError\u001b[0m                                 Traceback (most recent call last)",
      "\u001b[1;32m~\\AppData\\Local\\Temp\\ipykernel_13240\\1315290792.py\u001b[0m in \u001b[0;36m<module>\u001b[1;34m\u001b[0m\n\u001b[0;32m      1\u001b[0m \u001b[0ma\u001b[0m \u001b[1;33m=\u001b[0m \u001b[1;36m1\u001b[0m\u001b[1;33m\u001b[0m\u001b[0m\n\u001b[0;32m      2\u001b[0m \u001b[1;32mdel\u001b[0m\u001b[1;33m(\u001b[0m\u001b[0ma\u001b[0m\u001b[1;33m)\u001b[0m\u001b[1;33m\u001b[0m\u001b[0m\n\u001b[1;32m----> 3\u001b[1;33m \u001b[0mprint\u001b[0m\u001b[1;33m(\u001b[0m\u001b[0ma\u001b[0m\u001b[1;33m)\u001b[0m\u001b[1;33m\u001b[0m\u001b[0m\n\u001b[0m",
      "\u001b[1;31mNameError\u001b[0m: name 'a' is not defined"
     ]
    }
   ],
   "source": [
    "a = 1\n",
    "del(a)\n",
    "print(a)"
   ]
  },
  {
   "cell_type": "markdown",
   "id": "7fad8005",
   "metadata": {},
   "source": [
    "### len() function\n",
    "\n",
    "len function return the length(the number of items) of an object\n"
   ]
  },
  {
   "cell_type": "code",
   "execution_count": 35,
   "id": "ccea4574",
   "metadata": {},
   "outputs": [
    {
     "data": {
      "text/plain": [
       "5"
      ]
     },
     "execution_count": 35,
     "metadata": {},
     "output_type": "execute_result"
    }
   ],
   "source": [
    "len(\"hello\")"
   ]
  },
  {
   "cell_type": "code",
   "execution_count": null,
   "id": "e61931a4",
   "metadata": {},
   "outputs": [],
   "source": []
  }
 ],
 "metadata": {
  "kernelspec": {
   "display_name": "Python 3 (ipykernel)",
   "language": "python",
   "name": "python3"
  },
  "language_info": {
   "codemirror_mode": {
    "name": "ipython",
    "version": 3
   },
   "file_extension": ".py",
   "mimetype": "text/x-python",
   "name": "python",
   "nbconvert_exporter": "python",
   "pygments_lexer": "ipython3",
   "version": "3.7.0"
  }
 },
 "nbformat": 4,
 "nbformat_minor": 5
}
