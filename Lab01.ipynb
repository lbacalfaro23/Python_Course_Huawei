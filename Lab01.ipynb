{
 "cells": [
  {
   "cell_type": "markdown",
   "id": "3d280b62",
   "metadata": {},
   "source": [
    "# 1. Python Basic\n",
    "\n",
    "## 1.1 Hello World\n",
    "\n",
    "We will use the print() function to print our first python program: hello world\n",
    "\n",
    "Here, 'hello world' is a string, a sequence of characters. In python, strings are enclosed in single quotes, double quotes, or triple quotes."
   ]
  },
  {
   "cell_type": "code",
   "execution_count": 4,
   "id": "0edc7b68",
   "metadata": {},
   "outputs": [
    {
     "name": "stdout",
     "output_type": "stream",
     "text": [
      "Hello World\n",
      "Hello World\n"
     ]
    }
   ],
   "source": [
    "print('Hello World')\n",
    "print(\"Hello World\")"
   ]
  },
  {
   "cell_type": "code",
   "execution_count": 3,
   "id": "023f440a",
   "metadata": {},
   "outputs": [
    {
     "name": "stdout",
     "output_type": "stream",
     "text": [
      "Hello \n",
      "\n",
      "\n",
      "World\n"
     ]
    }
   ],
   "source": [
    "#triple quotes allows the string to span multiple lines\n",
    "print(\"\"\"Hello \n",
    "\n",
    "\n",
    "World\"\"\")"
   ]
  },
  {
   "cell_type": "code",
   "execution_count": 5,
   "id": "c31711e9",
   "metadata": {},
   "outputs": [
    {
     "ename": "SyntaxError",
     "evalue": "EOL while scanning string literal (3129726893.py, line 1)",
     "output_type": "error",
     "traceback": [
      "\u001b[1;36m  File \u001b[1;32m\"C:\\Users\\LUIS\\AppData\\Local\\Temp\\ipykernel_13240\\3129726893.py\"\u001b[1;36m, line \u001b[1;32m1\u001b[0m\n\u001b[1;33m    print(\"Hello\u001b[0m\n\u001b[1;37m                ^\u001b[0m\n\u001b[1;31mSyntaxError\u001b[0m\u001b[1;31m:\u001b[0m EOL while scanning string literal\n"
     ]
    }
   ],
   "source": [
    "print(\"Hello\n",
    "      \n",
    "      \n",
    "      \n",
    "WORLD\")"
   ]
  },
  {
   "cell_type": "markdown",
   "id": "3a0c13c0",
   "metadata": {},
   "source": [
    "# 1.2 Comments\n",
    "\n",
    " Comments are very important while writing a program that explains the codes in lines for programmers to better understand a program.\n",
    "\n",
    " In python, we use the hash (#) symbol to star writing a comment. Python interpreter ignores comments during execution.\n",
    "\n",
    " . # for one line\n",
    "\n",
    "We can have comments that extend up to multiple lines. One way is yo use the hash symbol at the beginning of each line. Another way of doing this is to use triple quotes, either ''' or \"\"\n",
    "\n",
    " . ''' ''' for multiple lines"
   ]
  },
  {
   "cell_type": "code",
   "execution_count": 6,
   "id": "b6f54c8a",
   "metadata": {},
   "outputs": [
    {
     "name": "stdout",
     "output_type": "stream",
     "text": [
      "Hello World\n"
     ]
    }
   ],
   "source": [
    "print(\"Hello World\") # this is a comment"
   ]
  },
  {
   "cell_type": "code",
   "execution_count": 7,
   "id": "25727841",
   "metadata": {},
   "outputs": [
    {
     "name": "stdout",
     "output_type": "stream",
     "text": [
      "Hello World\n"
     ]
    }
   ],
   "source": [
    "\"\"\"\n",
    "Triple quotes\n",
    "for\n",
    "multiples\n",
    "lines\n",
    "\"\"\"\n",
    "print(\"Hello World\")\n",
    "\n"
   ]
  },
  {
   "cell_type": "markdown",
   "id": "44b5c65e",
   "metadata": {},
   "source": [
    "## 1.3 Packages and modules\n",
    "\n",
    "Python has packages and modules. A module is a file containing Python code. A package is like a directory that contains sub-packages and modules. A library contains multiple modules.\n",
    "\n",
    "As our application program grows larger in size with a lot of modules, we place similar modules in one package and different modules in differents packages . This makes a project (program) easy to manage and conceptually clear.\n",
    "\n",
    "Python package can have sub-packages and modules.\n",
    "\n",
    "To use these package and modules in python:\n",
    " .Import\n",
    " . from ... import ..."
   ]
  },
  {
   "cell_type": "code",
   "execution_count": 8,
   "id": "5efad52d",
   "metadata": {},
   "outputs": [
    {
     "data": {
      "text/plain": [
       "'C:\\\\Users\\\\LUIS\\\\Python_Course_Huawei'"
      ]
     },
     "execution_count": 8,
     "metadata": {},
     "output_type": "execute_result"
    }
   ],
   "source": [
    "import os  # import os module\n",
    "os.getcwd() # get the current working directory"
   ]
  },
  {
   "cell_type": "code",
   "execution_count": 9,
   "id": "8accc510",
   "metadata": {},
   "outputs": [
    {
     "data": {
      "text/plain": [
       "'C:\\\\Users\\\\LUIS\\\\Python_Course_Huawei'"
      ]
     },
     "execution_count": 9,
     "metadata": {},
     "output_type": "execute_result"
    }
   ],
   "source": [
    "from os import getcwd # import getcwd method from os module\n",
    "getcwd()"
   ]
  },
  {
   "cell_type": "raw",
   "id": "f965e0fe",
   "metadata": {},
   "source": [
    "if a package name is too complex to call, you can give it an alias."
   ]
  },
  {
   "cell_type": "code",
   "execution_count": 10,
   "id": "9aa4bd5b",
   "metadata": {},
   "outputs": [
    {
     "data": {
      "text/plain": [
       "'Windows-10-10.0.19041-SP0'"
      ]
     },
     "execution_count": 10,
     "metadata": {},
     "output_type": "execute_result"
    }
   ],
   "source": [
    "import platform\n",
    "\n",
    "platform.platform()"
   ]
  },
  {
   "cell_type": "code",
   "execution_count": 11,
   "id": "452efd4a",
   "metadata": {},
   "outputs": [
    {
     "data": {
      "text/plain": [
       "'Windows-10-10.0.19041-SP0'"
      ]
     },
     "execution_count": 11,
     "metadata": {},
     "output_type": "execute_result"
    }
   ],
   "source": [
    "import platform as pf\n",
    "pf.platform()"
   ]
  },
  {
   "cell_type": "markdown",
   "id": "e1da48a1",
   "metadata": {},
   "source": [
    "## 1.4 Variables"
   ]
  },
  {
   "cell_type": "raw",
   "id": "cf01e355",
   "metadata": {},
   "source": [
    "Variables are containers for storing data values. A variable is a named location used to store data in the memory.\n",
    "\n",
    "Declaring and assigning value to a variable:"
   ]
  },
  {
   "cell_type": "code",
   "execution_count": 12,
   "id": "786d25f1",
   "metadata": {},
   "outputs": [
    {
     "name": "stdout",
     "output_type": "stream",
     "text": [
      "1\n"
     ]
    }
   ],
   "source": [
    "a = 1\n",
    "print(a)"
   ]
  },
  {
   "cell_type": "markdown",
   "id": "6193a966",
   "metadata": {},
   "source": [
    "The value of a variable can be change later in the program"
   ]
  },
  {
   "cell_type": "code",
   "execution_count": 13,
   "id": "be2bc840",
   "metadata": {},
   "outputs": [
    {
     "name": "stdout",
     "output_type": "stream",
     "text": [
      "2\n"
     ]
    }
   ],
   "source": [
    "a = 2\n",
    "print(a)"
   ]
  },
  {
   "cell_type": "markdown",
   "id": "07f6c7e7",
   "metadata": {},
   "source": [
    "## 1.5 Naming rule and keywords\n",
    "\n",
    "### 1.5.1 Naming rule\n",
    "\n",
    "Variable name should have a combination of letters in lowercase (a to <) or uppercase( A to Z) or digits (0 to 9) or an underscore (_)"
   ]
  },
  {
   "cell_type": "code",
   "execution_count": 14,
   "id": "24244216",
   "metadata": {},
   "outputs": [
    {
     "name": "stdout",
     "output_type": "stream",
     "text": [
      "1\n"
     ]
    }
   ],
   "source": [
    "aA9_ = 1\n",
    "print(aA9_)"
   ]
  },
  {
   "cell_type": "markdown",
   "id": "c9864fc4",
   "metadata": {},
   "source": [
    "Create a name that makes sense."
   ]
  },
  {
   "cell_type": "code",
   "execution_count": 15,
   "id": "5c4cf9bf",
   "metadata": {},
   "outputs": [],
   "source": [
    "wasd = 100\n",
    "price = 100"
   ]
  },
  {
   "cell_type": "markdown",
   "id": "5d21734b",
   "metadata": {},
   "source": [
    "if you want to create a variable name having two words, use underscores to separate them"
   ]
  },
  {
   "cell_type": "code",
   "execution_count": 16,
   "id": "f0ec00f0",
   "metadata": {},
   "outputs": [],
   "source": [
    "number_of_cats = 6"
   ]
  },
  {
   "cell_type": "markdown",
   "id": "0a9de7a0",
   "metadata": {},
   "source": [
    "Don't start a variable name with a digit"
   ]
  },
  {
   "cell_type": "code",
   "execution_count": 17,
   "id": "8c483313",
   "metadata": {},
   "outputs": [
    {
     "ename": "SyntaxError",
     "evalue": "invalid syntax (1311808018.py, line 1)",
     "output_type": "error",
     "traceback": [
      "\u001b[1;36m  File \u001b[1;32m\"C:\\Users\\LUIS\\AppData\\Local\\Temp\\ipykernel_13240\\1311808018.py\"\u001b[1;36m, line \u001b[1;32m1\u001b[0m\n\u001b[1;33m    1a = 1 # incorrect variable names\u001b[0m\n\u001b[1;37m     ^\u001b[0m\n\u001b[1;31mSyntaxError\u001b[0m\u001b[1;31m:\u001b[0m invalid syntax\n"
     ]
    }
   ],
   "source": [
    "1a = 1 # incorrect variable names"
   ]
  },
  {
   "cell_type": "markdown",
   "id": "ae986dca",
   "metadata": {},
   "source": [
    "### 1.5.2 Keywords\n",
    "\n",
    "Keyword are the reserved word in python. They cannot be used as ordinary identifiers and must be spelled exactly.\n",
    "\n",
    "There are 35 keywords in Python 3.7"
   ]
  },
  {
   "cell_type": "code",
   "execution_count": 18,
   "id": "ec9439fd",
   "metadata": {},
   "outputs": [
    {
     "ename": "SyntaxError",
     "evalue": "invalid syntax (197606532.py, line 1)",
     "output_type": "error",
     "traceback": [
      "\u001b[1;36m  File \u001b[1;32m\"C:\\Users\\LUIS\\AppData\\Local\\Temp\\ipykernel_13240\\197606532.py\"\u001b[1;36m, line \u001b[1;32m1\u001b[0m\n\u001b[1;33m    def = 1 # When a variable name is a keyword\u001b[0m\n\u001b[1;37m        ^\u001b[0m\n\u001b[1;31mSyntaxError\u001b[0m\u001b[1;31m:\u001b[0m invalid syntax\n"
     ]
    }
   ],
   "source": [
    "def = 1 # When a variable name is a keyword"
   ]
  },
  {
   "cell_type": "code",
   "execution_count": 19,
   "id": "41f7bfd2",
   "metadata": {},
   "outputs": [
    {
     "data": {
      "text/plain": [
       "['False',\n",
       " 'None',\n",
       " 'True',\n",
       " 'and',\n",
       " 'as',\n",
       " 'assert',\n",
       " 'async',\n",
       " 'await',\n",
       " 'break',\n",
       " 'class',\n",
       " 'continue',\n",
       " 'def',\n",
       " 'del',\n",
       " 'elif',\n",
       " 'else',\n",
       " 'except',\n",
       " 'finally',\n",
       " 'for',\n",
       " 'from',\n",
       " 'global',\n",
       " 'if',\n",
       " 'import',\n",
       " 'in',\n",
       " 'is',\n",
       " 'lambda',\n",
       " 'nonlocal',\n",
       " 'not',\n",
       " 'or',\n",
       " 'pass',\n",
       " 'raise',\n",
       " 'return',\n",
       " 'try',\n",
       " 'while',\n",
       " 'with',\n",
       " 'yield']"
      ]
     },
     "execution_count": 19,
     "metadata": {},
     "output_type": "execute_result"
    }
   ],
   "source": [
    "import keyword\n",
    "keyword.kwlist"
   ]
  },
  {
   "cell_type": "code",
   "execution_count": 20,
   "id": "cabbe8ae",
   "metadata": {},
   "outputs": [
    {
     "name": "stdout",
     "output_type": "stream",
     "text": [
      "\n",
      "Here is a list of the Python keywords.  Enter any keyword to get more help.\n",
      "\n",
      "False               class               from                or\n",
      "None                continue            global              pass\n",
      "True                def                 if                  raise\n",
      "and                 del                 import              return\n",
      "as                  elif                in                  try\n",
      "assert              else                is                  while\n",
      "async               except              lambda              with\n",
      "await               finally             nonlocal            yield\n",
      "break               for                 not                 \n",
      "\n"
     ]
    }
   ],
   "source": [
    "help(\"keywords\")"
   ]
  },
  {
   "cell_type": "markdown",
   "id": "9f734f26",
   "metadata": {},
   "source": [
    "## 1.6 Switching values"
   ]
  },
  {
   "cell_type": "markdown",
   "id": "b43151bd",
   "metadata": {},
   "source": [
    "# "
   ]
  },
  {
   "cell_type": "code",
   "execution_count": 21,
   "id": "191c36ba",
   "metadata": {},
   "outputs": [
    {
     "name": "stdout",
     "output_type": "stream",
     "text": [
      "1\n",
      "2\n"
     ]
    }
   ],
   "source": [
    "a = 1\n",
    "b = 2\n",
    "print(a)\n",
    "print(b)"
   ]
  },
  {
   "cell_type": "code",
   "execution_count": 22,
   "id": "59b8483a",
   "metadata": {},
   "outputs": [
    {
     "name": "stdout",
     "output_type": "stream",
     "text": [
      "2\n",
      "1\n"
     ]
    }
   ],
   "source": [
    "a,b = b,a\n",
    "print(a)\n",
    "print(b)"
   ]
  },
  {
   "cell_type": "code",
   "execution_count": null,
   "id": "d7ca4ab2",
   "metadata": {},
   "outputs": [],
   "source": []
  },
  {
   "cell_type": "code",
   "execution_count": null,
   "id": "7bb38d55",
   "metadata": {},
   "outputs": [],
   "source": []
  },
  {
   "cell_type": "code",
   "execution_count": null,
   "id": "e4ea7502",
   "metadata": {},
   "outputs": [],
   "source": []
  },
  {
   "cell_type": "code",
   "execution_count": null,
   "id": "9ef94d74",
   "metadata": {},
   "outputs": [],
   "source": []
  }
 ],
 "metadata": {
  "kernelspec": {
   "display_name": "Python 3 (ipykernel)",
   "language": "python",
   "name": "python3"
  },
  "language_info": {
   "codemirror_mode": {
    "name": "ipython",
    "version": 3
   },
   "file_extension": ".py",
   "mimetype": "text/x-python",
   "name": "python",
   "nbconvert_exporter": "python",
   "pygments_lexer": "ipython3",
   "version": "3.7.0"
  }
 },
 "nbformat": 4,
 "nbformat_minor": 5
}
