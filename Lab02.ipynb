{
 "cells": [
  {
   "cell_type": "markdown",
   "id": "cea6ed7f",
   "metadata": {},
   "source": [
    "# 2. Python Data Types\n",
    "\n",
    "## 2.1 Numeric: int, float, complex\n",
    "\n",
    "### Number Data Type in Python\n",
    "\n",
    "Python supports integers, floating-point numbers and complex numbers.\n",
    "\n",
    "Integers and floating points are separated by the presence or absences of a decimal point.\n",
    "\n",
    "Complex numbers are written in the form, x + yj, where x is the real part and y is the imaginary part.\n",
    "\n",
    "Integers can be of any length, a floating-point number is accurate only up to 15 decimal places( the 16th place is inaccurate)"
   ]
  },
  {
   "cell_type": "code",
   "execution_count": 1,
   "id": "5da131f1",
   "metadata": {},
   "outputs": [
    {
     "name": "stdout",
     "output_type": "stream",
     "text": [
      "<class 'int'>\n"
     ]
    }
   ],
   "source": [
    "a = 5\n",
    "print(type(a))"
   ]
  },
  {
   "cell_type": "code",
   "execution_count": 2,
   "id": "7cd4b3b0",
   "metadata": {},
   "outputs": [
    {
     "name": "stdout",
     "output_type": "stream",
     "text": [
      "<class 'float'>\n"
     ]
    }
   ],
   "source": [
    "a = 5.0\n",
    "print(type(a))"
   ]
  },
  {
   "cell_type": "code",
   "execution_count": 4,
   "id": "163eba11",
   "metadata": {},
   "outputs": [
    {
     "name": "stdout",
     "output_type": "stream",
     "text": [
      "<class 'complex'>\n"
     ]
    }
   ],
   "source": [
    "a = 5 + 6j\n",
    "print(type(a))"
   ]
  },
  {
   "cell_type": "markdown",
   "id": "482a4fe9",
   "metadata": {},
   "source": [
    "## 2.2 Text: str\n",
    "\n",
    "### 2.2.1 String\n",
    "\n",
    "In python, a string is a sequence of Unicode characteres. Unicode was introduced to include every character in all languages and bring uniformity in encoding. You can learn about unicode from Python Unicode\n",
    "\n",
    "Strings can be created by enclosing characters inside a single quote or double-quotes. Even triple quotes can be used in Python but generally used to represent multiline string and docstrings"
   ]
  },
  {
   "cell_type": "code",
   "execution_count": 7,
   "id": "bdc1e196",
   "metadata": {},
   "outputs": [
    {
     "name": "stdout",
     "output_type": "stream",
     "text": [
      "Xaipete Python\n",
      "Xaipete Python\n",
      " Xaipete\n",
      "\n",
      "\n",
      "        Python\n",
      "\n",
      "<class 'str'>\n",
      "<class 'str'>\n",
      "<class 'str'>\n"
     ]
    }
   ],
   "source": [
    "# create a string\n",
    "\n",
    "s1 = \"Xaipete Python\" # double quote\n",
    "s2 = 'Xaipete Python' # single quote\n",
    "s3 = \"\"\" Xaipete\n",
    "\n",
    "\n",
    "        Python\n",
    "\"\"\" # triple quotes for multiline string and docstrings\n",
    "\n",
    "print(s1)\n",
    "print(s2)\n",
    "print(s3)\n",
    "\n",
    "print(type(s1))\n",
    "print(type(s2))\n",
    "print(type(s3))"
   ]
  },
  {
   "cell_type": "markdown",
   "id": "3b4f7509",
   "metadata": {},
   "source": [
    "### 2.2.2 Escape Sequence\n",
    "\n",
    "To insert characters that are illegal in a string, use an escape character\n",
    "\n",
    "An escape character is a backslash \\ followed by the character you want to insert\n",
    "\n",
    "An escape sequence starts with a backslash and is interpreted differently. If we use a single quote to represent a string, all the single quotes inside the string must be escaped. Similar is the case with double quotes.\n"
   ]
  },
  {
   "cell_type": "code",
   "execution_count": 8,
   "id": "b688a7be",
   "metadata": {},
   "outputs": [
    {
     "name": "stdout",
     "output_type": "stream",
     "text": [
      "python\"\n"
     ]
    }
   ],
   "source": [
    "# to show the double quote\n",
    "\n",
    "s = \"python\\\"\"\n",
    "\n",
    "print(s)"
   ]
  },
  {
   "cell_type": "code",
   "execution_count": 9,
   "id": "d0578a39",
   "metadata": {},
   "outputs": [
    {
     "name": "stdout",
     "output_type": "stream",
     "text": [
      "python\\\n"
     ]
    }
   ],
   "source": [
    "# to show the backslash\n",
    "\n",
    "s = \"python\\\\\"\n",
    "print(s)"
   ]
  },
  {
   "cell_type": "code",
   "execution_count": 10,
   "id": "46bbd3e7",
   "metadata": {},
   "outputs": [
    {
     "name": "stdout",
     "output_type": "stream",
     "text": [
      "py\n",
      "thon\n"
     ]
    }
   ],
   "source": [
    "# to star a new line\n",
    "\n",
    "s = \"py\\nthon\"\n",
    "print(s)"
   ]
  },
  {
   "cell_type": "markdown",
   "id": "447f21cb",
   "metadata": {},
   "source": [
    "### 2.2.3 Raw String\n",
    "\n",
    "Sometimes we may wish to ignore the escape sequences inside a string. To do this we can place r or R in front of the string.\n",
    "This will imply that it is a raw string and any escape sequence inside it will be ignored.\n"
   ]
  },
  {
   "cell_type": "code",
   "execution_count": 12,
   "id": "971141a2",
   "metadata": {},
   "outputs": [
    {
     "name": "stdout",
     "output_type": "stream",
     "text": [
      "C:\\\\abc\\abc\\abc.txt\n"
     ]
    }
   ],
   "source": [
    "s = r\"C:\\\\abc\\abc\\abc.txt\"\n",
    "print(s)"
   ]
  },
  {
   "cell_type": "markdown",
   "id": "7780d50a",
   "metadata": {},
   "source": [
    "### 2.2.4 Access Characters in a string\n",
    "\n",
    "We can access individual characters using indexing and a range of characters using slicing. Index starts from 0. Trying to access a character out of index range will raise and IndexError. The index must be an integer. We can't use floats or other types, this will result into TypeError.\n",
    "\n",
    "Python allows negative indexing for its sequences\n",
    "\n",
    "The index of -1 refers to the last item. -2 to the second last item and so on. We can access a range of items in a string by using the slicing operator :(colon):\n"
   ]
  },
  {
   "cell_type": "code",
   "execution_count": 13,
   "id": "b9686d71",
   "metadata": {},
   "outputs": [
    {
     "data": {
      "text/plain": [
       "'p'"
      ]
     },
     "execution_count": 13,
     "metadata": {},
     "output_type": "execute_result"
    }
   ],
   "source": [
    "s = \"python\"\n",
    "\n",
    "s[0]"
   ]
  },
  {
   "cell_type": "code",
   "execution_count": 14,
   "id": "9c8c5541",
   "metadata": {},
   "outputs": [
    {
     "data": {
      "text/plain": [
       "'y'"
      ]
     },
     "execution_count": 14,
     "metadata": {},
     "output_type": "execute_result"
    }
   ],
   "source": [
    "s[1]\n"
   ]
  },
  {
   "cell_type": "code",
   "execution_count": 15,
   "id": "2dc3fb7d",
   "metadata": {},
   "outputs": [
    {
     "data": {
      "text/plain": [
       "'n'"
      ]
     },
     "execution_count": 15,
     "metadata": {},
     "output_type": "execute_result"
    }
   ],
   "source": [
    "s[-1]"
   ]
  },
  {
   "cell_type": "code",
   "execution_count": 16,
   "id": "3cecee31",
   "metadata": {},
   "outputs": [
    {
     "ename": "IndexError",
     "evalue": "string index out of range",
     "output_type": "error",
     "traceback": [
      "\u001b[1;31m---------------------------------------------------------------------------\u001b[0m",
      "\u001b[1;31mIndexError\u001b[0m                                Traceback (most recent call last)",
      "\u001b[1;32m~\\AppData\\Local\\Temp\\ipykernel_12720\\2763703557.py\u001b[0m in \u001b[0;36m<module>\u001b[1;34m\u001b[0m\n\u001b[1;32m----> 1\u001b[1;33m \u001b[0ms\u001b[0m\u001b[1;33m[\u001b[0m\u001b[1;36m99\u001b[0m\u001b[1;33m]\u001b[0m\u001b[1;33m\u001b[0m\u001b[0m\n\u001b[0m",
      "\u001b[1;31mIndexError\u001b[0m: string index out of range"
     ]
    }
   ],
   "source": [
    "s[99]"
   ]
  },
  {
   "cell_type": "code",
   "execution_count": 17,
   "id": "24c87f46",
   "metadata": {},
   "outputs": [
    {
     "ename": "TypeError",
     "evalue": "string indices must be integers",
     "output_type": "error",
     "traceback": [
      "\u001b[1;31m---------------------------------------------------------------------------\u001b[0m",
      "\u001b[1;31mTypeError\u001b[0m                                 Traceback (most recent call last)",
      "\u001b[1;32m~\\AppData\\Local\\Temp\\ipykernel_12720\\3622854187.py\u001b[0m in \u001b[0;36m<module>\u001b[1;34m\u001b[0m\n\u001b[1;32m----> 1\u001b[1;33m \u001b[0ms\u001b[0m\u001b[1;33m[\u001b[0m\u001b[1;36m1.0\u001b[0m\u001b[1;33m]\u001b[0m\u001b[1;33m\u001b[0m\u001b[0m\n\u001b[0m",
      "\u001b[1;31mTypeError\u001b[0m: string indices must be integers"
     ]
    }
   ],
   "source": [
    "s[1.0]"
   ]
  },
  {
   "cell_type": "code",
   "execution_count": 18,
   "id": "2d9c0ab4",
   "metadata": {},
   "outputs": [
    {
     "data": {
      "text/plain": [
       "'pyt'"
      ]
     },
     "execution_count": 18,
     "metadata": {},
     "output_type": "execute_result"
    }
   ],
   "source": [
    "#python\n",
    "\n",
    "s[0:3]"
   ]
  },
  {
   "cell_type": "code",
   "execution_count": 19,
   "id": "1258f72a",
   "metadata": {},
   "outputs": [
    {
     "data": {
      "text/plain": [
       "'pt'"
      ]
     },
     "execution_count": 19,
     "metadata": {},
     "output_type": "execute_result"
    }
   ],
   "source": [
    "# python\n",
    "\n",
    "s[0:4:2]"
   ]
  },
  {
   "cell_type": "code",
   "execution_count": 20,
   "id": "ddf95a4a",
   "metadata": {},
   "outputs": [
    {
     "ename": "TypeError",
     "evalue": "'str' object does not support item assignment",
     "output_type": "error",
     "traceback": [
      "\u001b[1;31m---------------------------------------------------------------------------\u001b[0m",
      "\u001b[1;31mTypeError\u001b[0m                                 Traceback (most recent call last)",
      "\u001b[1;32m~\\AppData\\Local\\Temp\\ipykernel_12720\\455525094.py\u001b[0m in \u001b[0;36m<module>\u001b[1;34m\u001b[0m\n\u001b[1;32m----> 1\u001b[1;33m \u001b[0ms\u001b[0m\u001b[1;33m[\u001b[0m\u001b[1;36m0\u001b[0m\u001b[1;33m]\u001b[0m \u001b[1;33m=\u001b[0m \u001b[1;34m'l'\u001b[0m\u001b[1;33m\u001b[0m\u001b[0m\n\u001b[0m",
      "\u001b[1;31mTypeError\u001b[0m: 'str' object does not support item assignment"
     ]
    }
   ],
   "source": [
    "# unchangeable\n",
    "s[0] = 'l'"
   ]
  },
  {
   "cell_type": "code",
   "execution_count": 21,
   "id": "e0dbd15c",
   "metadata": {},
   "outputs": [
    {
     "data": {
      "text/plain": [
       "'nohtyp'"
      ]
     },
     "execution_count": 21,
     "metadata": {},
     "output_type": "execute_result"
    }
   ],
   "source": [
    "s[::-1]\n"
   ]
  },
  {
   "cell_type": "code",
   "execution_count": 31,
   "id": "ec029be1",
   "metadata": {},
   "outputs": [
    {
     "data": {
      "text/plain": [
       "'nohtyp'"
      ]
     },
     "execution_count": 31,
     "metadata": {},
     "output_type": "execute_result"
    }
   ],
   "source": [
    "#python\n",
    "\n",
    "s[::-1]"
   ]
  },
  {
   "cell_type": "code",
   "execution_count": 38,
   "id": "e2199e3c",
   "metadata": {},
   "outputs": [
    {
     "data": {
      "text/plain": [
       "'nohtyp'"
      ]
     },
     "execution_count": 38,
     "metadata": {},
     "output_type": "execute_result"
    }
   ],
   "source": [
    "s[::-1]"
   ]
  },
  {
   "cell_type": "code",
   "execution_count": 42,
   "id": "316ddde4",
   "metadata": {},
   "outputs": [
    {
     "data": {
      "text/plain": [
       "'ho'"
      ]
     },
     "execution_count": 42,
     "metadata": {},
     "output_type": "execute_result"
    }
   ],
   "source": [
    "#python\n",
    "s[-3:-1]"
   ]
  },
  {
   "cell_type": "code",
   "execution_count": 43,
   "id": "8f05ca8b",
   "metadata": {},
   "outputs": [
    {
     "name": "stdout",
     "output_type": "stream",
     "text": [
      "oW ,olleH\n"
     ]
    }
   ],
   "source": [
    "b = \"Hello, World!\" # Inicio -5 to fin de cadena \"H\" inclusive\n",
    "print(b[-5::-1])\n"
   ]
  },
  {
   "cell_type": "code",
   "execution_count": 44,
   "id": "eeb383bd",
   "metadata": {},
   "outputs": [
    {
     "data": {
      "text/plain": [
       "'!dlr'"
      ]
     },
     "execution_count": 44,
     "metadata": {},
     "output_type": "execute_result"
    }
   ],
   "source": [
    "b = \"Hello, World!\" # Inicio de cadena \"!\" hasta -5 \"o\" no incluye\n",
    "b[:-5:-1]"
   ]
  },
  {
   "cell_type": "code",
   "execution_count": 45,
   "id": "fd1f9806",
   "metadata": {},
   "outputs": [
    {
     "data": {
      "text/plain": [
       "'Hello, W'"
      ]
     },
     "execution_count": 45,
     "metadata": {},
     "output_type": "execute_result"
    }
   ],
   "source": [
    "b = \"Hello, World!\" # Inicio de cadena hasta -5 pero orden iz a dere\n",
    "b[:-5]"
   ]
  },
  {
   "cell_type": "markdown",
   "id": "cb472dac",
   "metadata": {},
   "source": [
    "### 2.2.5 String Operations\n",
    "\n",
    "There are many operation that can be performed with strings which makes it one of the most used data types in Python.\n",
    "\n",
    "Joining of two or more string into a single one is called concatenation. The + operator does this in Python.\n",
    "\n",
    "The * operator can be used to repeat the string for a given number of times"
   ]
  },
  {
   "cell_type": "code",
   "execution_count": null,
   "id": "11193b8a",
   "metadata": {},
   "outputs": [],
   "source": []
  }
 ],
 "metadata": {
  "kernelspec": {
   "display_name": "Python 3 (ipykernel)",
   "language": "python",
   "name": "python3"
  },
  "language_info": {
   "codemirror_mode": {
    "name": "ipython",
    "version": 3
   },
   "file_extension": ".py",
   "mimetype": "text/x-python",
   "name": "python",
   "nbconvert_exporter": "python",
   "pygments_lexer": "ipython3",
   "version": "3.7.0"
  }
 },
 "nbformat": 4,
 "nbformat_minor": 5
}
