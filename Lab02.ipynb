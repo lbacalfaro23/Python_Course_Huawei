{
 "cells": [
  {
   "cell_type": "markdown",
   "id": "7eade39b",
   "metadata": {},
   "source": [
    "# 2. Python Data Types\n",
    "\n",
    "## 2.1 Numeric: int, float, complex\n",
    "\n",
    "### Number Data Type in Python\n",
    "\n",
    "Python supports integers, floating-point numbers and complex numbers.\n",
    "\n",
    "Integers and floating points are separated by the presence or absences of a decimal point.\n",
    "\n",
    "Complex numbers are written in the form, x + yj, where x is the real part and y is the imaginary part.\n",
    "\n",
    "Integers can be of any length, a floating-point number is accurate only up to 15 decimal places( the 16th place is inaccurate)"
   ]
  },
  {
   "cell_type": "code",
   "execution_count": 1,
   "id": "faf8a071",
   "metadata": {},
   "outputs": [
    {
     "name": "stdout",
     "output_type": "stream",
     "text": [
      "<class 'int'>\n"
     ]
    }
   ],
   "source": [
    "a = 5\n",
    "print(type(a))"
   ]
  },
  {
   "cell_type": "code",
   "execution_count": 2,
   "id": "934024b0",
   "metadata": {},
   "outputs": [
    {
     "name": "stdout",
     "output_type": "stream",
     "text": [
      "<class 'float'>\n"
     ]
    }
   ],
   "source": [
    "a = 5.0\n",
    "print(type(a))"
   ]
  },
  {
   "cell_type": "code",
   "execution_count": 4,
   "id": "6ad3d3dd",
   "metadata": {},
   "outputs": [
    {
     "name": "stdout",
     "output_type": "stream",
     "text": [
      "<class 'complex'>\n"
     ]
    }
   ],
   "source": [
    "a = 5 + 6j\n",
    "print(type(a))"
   ]
  },
  {
   "cell_type": "markdown",
   "id": "9a016b1e",
   "metadata": {},
   "source": [
    "## 2.2 Text: str\n",
    "\n",
    "### 2.2.1 String\n",
    "\n",
    "In python, a string is a sequence of Unicode characteres. Unicode was introduced to include every character in all languages and bring uniformity in encoding. You can learn about unicode from Python Unicode\n",
    "\n",
    "Strings can be created by enclosing characters inside a single quote or double-quotes. Even triple quotes can be used in Python but generally used to represent multiline string and docstrings"
   ]
  },
  {
   "cell_type": "code",
   "execution_count": 7,
   "id": "6685b773",
   "metadata": {},
   "outputs": [
    {
     "name": "stdout",
     "output_type": "stream",
     "text": [
      "Xaipete Python\n",
      "Xaipete Python\n",
      " Xaipete\n",
      "\n",
      "\n",
      "        Python\n",
      "\n",
      "<class 'str'>\n",
      "<class 'str'>\n",
      "<class 'str'>\n"
     ]
    }
   ],
   "source": [
    "# create a string\n",
    "\n",
    "s1 = \"Xaipete Python\" # double quote\n",
    "s2 = 'Xaipete Python' # single quote\n",
    "s3 = \"\"\" Xaipete\n",
    "\n",
    "\n",
    "        Python\n",
    "\"\"\" # triple quotes for multiline string and docstrings\n",
    "\n",
    "print(s1)\n",
    "print(s2)\n",
    "print(s3)\n",
    "\n",
    "print(type(s1))\n",
    "print(type(s2))\n",
    "print(type(s3))"
   ]
  },
  {
   "cell_type": "markdown",
   "id": "a22f1f7e",
   "metadata": {},
   "source": [
    "### 2.2.2 Escape Sequence\n",
    "\n",
    "To insert characters that are illegal in a string, use an escape character\n",
    "\n",
    "An escape character is a backslash \\ followed by the character you want to insert\n",
    "\n",
    "An escape sequence starts with a backslash and is interpreted differently. If we use a single quote to represent a string, all the single quotes inside the string must be escaped. Similar is the case with double quotes.\n"
   ]
  },
  {
   "cell_type": "code",
   "execution_count": 8,
   "id": "d5cdb6a6",
   "metadata": {},
   "outputs": [
    {
     "name": "stdout",
     "output_type": "stream",
     "text": [
      "python\"\n"
     ]
    }
   ],
   "source": [
    "# to show the double quote\n",
    "\n",
    "s = \"python\\\"\"\n",
    "\n",
    "print(s)"
   ]
  },
  {
   "cell_type": "code",
   "execution_count": 9,
   "id": "80eab1ad",
   "metadata": {},
   "outputs": [
    {
     "name": "stdout",
     "output_type": "stream",
     "text": [
      "python\\\n"
     ]
    }
   ],
   "source": [
    "# to show the backslash\n",
    "\n",
    "s = \"python\\\\\"\n",
    "print(s)"
   ]
  },
  {
   "cell_type": "code",
   "execution_count": 10,
   "id": "073932b7",
   "metadata": {},
   "outputs": [
    {
     "name": "stdout",
     "output_type": "stream",
     "text": [
      "py\n",
      "thon\n"
     ]
    }
   ],
   "source": [
    "# to star a new line\n",
    "\n",
    "s = \"py\\nthon\"\n",
    "print(s)"
   ]
  },
  {
   "cell_type": "markdown",
   "id": "cf1c96f7",
   "metadata": {},
   "source": [
    "### 2.2.3 Raw String\n",
    "\n",
    "Sometimes we may wish to ignore the escape sequences inside a string. To do this we can place r or R in front of the string.\n",
    "This will imply that it is a raw string and any escape sequence inside it will be ignored.\n"
   ]
  },
  {
   "cell_type": "code",
   "execution_count": 12,
   "id": "3773e660",
   "metadata": {},
   "outputs": [
    {
     "name": "stdout",
     "output_type": "stream",
     "text": [
      "C:\\\\abc\\abc\\abc.txt\n"
     ]
    }
   ],
   "source": [
    "s = r\"C:\\\\abc\\abc\\abc.txt\"\n",
    "print(s)"
   ]
  },
  {
   "cell_type": "markdown",
   "id": "4debc7aa",
   "metadata": {},
   "source": [
    "### 2.2.4 Access Characters in a string\n",
    "\n",
    "We can access individual characters using indexing and a range of characters using slicing. Index starts from 0. Trying to access a character out of index range will raise and IndexError. The index must be an integer. We can't use floats or other types, this will result into TypeError.\n",
    "\n",
    "Python allows negative indexing for its sequences\n",
    "\n",
    "The index of -1 refers to the last item. -2 to the second last item and so on. We can access a range of items in a string by using the slicing operator :(colon):\n"
   ]
  },
  {
   "cell_type": "code",
   "execution_count": 13,
   "id": "8c298ffb",
   "metadata": {},
   "outputs": [
    {
     "data": {
      "text/plain": [
       "'p'"
      ]
     },
     "execution_count": 13,
     "metadata": {},
     "output_type": "execute_result"
    }
   ],
   "source": [
    "s = \"python\"\n",
    "\n",
    "s[0]"
   ]
  },
  {
   "cell_type": "code",
   "execution_count": 14,
   "id": "aa078315",
   "metadata": {},
   "outputs": [
    {
     "data": {
      "text/plain": [
       "'y'"
      ]
     },
     "execution_count": 14,
     "metadata": {},
     "output_type": "execute_result"
    }
   ],
   "source": [
    "s[1]\n"
   ]
  },
  {
   "cell_type": "code",
   "execution_count": 15,
   "id": "b45ed0a0",
   "metadata": {},
   "outputs": [
    {
     "data": {
      "text/plain": [
       "'n'"
      ]
     },
     "execution_count": 15,
     "metadata": {},
     "output_type": "execute_result"
    }
   ],
   "source": [
    "s[-1]"
   ]
  },
  {
   "cell_type": "code",
   "execution_count": 16,
   "id": "5744a6fa",
   "metadata": {},
   "outputs": [
    {
     "ename": "IndexError",
     "evalue": "string index out of range",
     "output_type": "error",
     "traceback": [
      "\u001b[1;31m---------------------------------------------------------------------------\u001b[0m",
      "\u001b[1;31mIndexError\u001b[0m                                Traceback (most recent call last)",
      "\u001b[1;32m~\\AppData\\Local\\Temp\\ipykernel_12720\\2763703557.py\u001b[0m in \u001b[0;36m<module>\u001b[1;34m\u001b[0m\n\u001b[1;32m----> 1\u001b[1;33m \u001b[0ms\u001b[0m\u001b[1;33m[\u001b[0m\u001b[1;36m99\u001b[0m\u001b[1;33m]\u001b[0m\u001b[1;33m\u001b[0m\u001b[0m\n\u001b[0m",
      "\u001b[1;31mIndexError\u001b[0m: string index out of range"
     ]
    }
   ],
   "source": [
    "s[99]"
   ]
  },
  {
   "cell_type": "code",
   "execution_count": 17,
   "id": "a3d0b282",
   "metadata": {},
   "outputs": [
    {
     "ename": "TypeError",
     "evalue": "string indices must be integers",
     "output_type": "error",
     "traceback": [
      "\u001b[1;31m---------------------------------------------------------------------------\u001b[0m",
      "\u001b[1;31mTypeError\u001b[0m                                 Traceback (most recent call last)",
      "\u001b[1;32m~\\AppData\\Local\\Temp\\ipykernel_12720\\3622854187.py\u001b[0m in \u001b[0;36m<module>\u001b[1;34m\u001b[0m\n\u001b[1;32m----> 1\u001b[1;33m \u001b[0ms\u001b[0m\u001b[1;33m[\u001b[0m\u001b[1;36m1.0\u001b[0m\u001b[1;33m]\u001b[0m\u001b[1;33m\u001b[0m\u001b[0m\n\u001b[0m",
      "\u001b[1;31mTypeError\u001b[0m: string indices must be integers"
     ]
    }
   ],
   "source": [
    "s[1.0]"
   ]
  },
  {
   "cell_type": "code",
   "execution_count": 18,
   "id": "472d3a9c",
   "metadata": {},
   "outputs": [
    {
     "data": {
      "text/plain": [
       "'pyt'"
      ]
     },
     "execution_count": 18,
     "metadata": {},
     "output_type": "execute_result"
    }
   ],
   "source": [
    "#python\n",
    "\n",
    "s[0:3]"
   ]
  },
  {
   "cell_type": "code",
   "execution_count": 19,
   "id": "d9d39e6f",
   "metadata": {},
   "outputs": [
    {
     "data": {
      "text/plain": [
       "'pt'"
      ]
     },
     "execution_count": 19,
     "metadata": {},
     "output_type": "execute_result"
    }
   ],
   "source": [
    "# python\n",
    "\n",
    "s[0:4:2]"
   ]
  },
  {
   "cell_type": "code",
   "execution_count": 20,
   "id": "f1a498ef",
   "metadata": {},
   "outputs": [
    {
     "ename": "TypeError",
     "evalue": "'str' object does not support item assignment",
     "output_type": "error",
     "traceback": [
      "\u001b[1;31m---------------------------------------------------------------------------\u001b[0m",
      "\u001b[1;31mTypeError\u001b[0m                                 Traceback (most recent call last)",
      "\u001b[1;32m~\\AppData\\Local\\Temp\\ipykernel_12720\\455525094.py\u001b[0m in \u001b[0;36m<module>\u001b[1;34m\u001b[0m\n\u001b[1;32m----> 1\u001b[1;33m \u001b[0ms\u001b[0m\u001b[1;33m[\u001b[0m\u001b[1;36m0\u001b[0m\u001b[1;33m]\u001b[0m \u001b[1;33m=\u001b[0m \u001b[1;34m'l'\u001b[0m\u001b[1;33m\u001b[0m\u001b[0m\n\u001b[0m",
      "\u001b[1;31mTypeError\u001b[0m: 'str' object does not support item assignment"
     ]
    }
   ],
   "source": [
    "# unchangeable\n",
    "s[0] = 'l'"
   ]
  },
  {
   "cell_type": "code",
   "execution_count": 21,
   "id": "3968727e",
   "metadata": {},
   "outputs": [
    {
     "data": {
      "text/plain": [
       "'nohtyp'"
      ]
     },
     "execution_count": 21,
     "metadata": {},
     "output_type": "execute_result"
    }
   ],
   "source": [
    "s[::-1]\n"
   ]
  },
  {
   "cell_type": "code",
   "execution_count": 31,
   "id": "b2877e96",
   "metadata": {},
   "outputs": [
    {
     "data": {
      "text/plain": [
       "'nohtyp'"
      ]
     },
     "execution_count": 31,
     "metadata": {},
     "output_type": "execute_result"
    }
   ],
   "source": [
    "#python\n",
    "\n",
    "s[::-1]"
   ]
  },
  {
   "cell_type": "code",
   "execution_count": 38,
   "id": "db605f04",
   "metadata": {},
   "outputs": [
    {
     "data": {
      "text/plain": [
       "'nohtyp'"
      ]
     },
     "execution_count": 38,
     "metadata": {},
     "output_type": "execute_result"
    }
   ],
   "source": [
    "s[::-1]"
   ]
  },
  {
   "cell_type": "code",
   "execution_count": 42,
   "id": "4afb9aab",
   "metadata": {},
   "outputs": [
    {
     "data": {
      "text/plain": [
       "'ho'"
      ]
     },
     "execution_count": 42,
     "metadata": {},
     "output_type": "execute_result"
    }
   ],
   "source": [
    "#python\n",
    "s[-3:-1]"
   ]
  },
  {
   "cell_type": "code",
   "execution_count": 43,
   "id": "f446e762",
   "metadata": {},
   "outputs": [
    {
     "name": "stdout",
     "output_type": "stream",
     "text": [
      "oW ,olleH\n"
     ]
    }
   ],
   "source": [
    "b = \"Hello, World!\" # Inicio -5 to fin de cadena \"H\" inclusive\n",
    "print(b[-5::-1])\n"
   ]
  },
  {
   "cell_type": "code",
   "execution_count": 44,
   "id": "bb857c45",
   "metadata": {},
   "outputs": [
    {
     "data": {
      "text/plain": [
       "'!dlr'"
      ]
     },
     "execution_count": 44,
     "metadata": {},
     "output_type": "execute_result"
    }
   ],
   "source": [
    "b = \"Hello, World!\" # Inicio de cadena \"!\" hasta -5 \"o\" no incluye\n",
    "b[:-5:-1]"
   ]
  },
  {
   "cell_type": "code",
   "execution_count": 45,
   "id": "7e1f82d3",
   "metadata": {},
   "outputs": [
    {
     "data": {
      "text/plain": [
       "'Hello, W'"
      ]
     },
     "execution_count": 45,
     "metadata": {},
     "output_type": "execute_result"
    }
   ],
   "source": [
    "b = \"Hello, World!\" # Inicio de cadena hasta -5 pero orden iz a dere\n",
    "b[:-5]"
   ]
  },
  {
   "cell_type": "markdown",
   "id": "cfa4c9bc",
   "metadata": {},
   "source": [
    "### 2.2.5 String Operations\n",
    "\n",
    "There are many operation that can be performed with strings which makes it one of the most used data types in Python.\n",
    "\n",
    "Joining of two or more string into a single one is called concatenation. The + operator does this in Python.\n",
    "\n",
    "The * operator can be used to repeat the string for a given number of times"
   ]
  },
  {
   "cell_type": "code",
   "execution_count": 46,
   "id": "fd5478a3",
   "metadata": {},
   "outputs": [
    {
     "name": "stdout",
     "output_type": "stream",
     "text": [
      "HelloWorld\n"
     ]
    }
   ],
   "source": [
    "# + operator\n",
    "a = \"Hello\"\n",
    "b = \"World\"\n",
    "print(a + b)"
   ]
  },
  {
   "cell_type": "code",
   "execution_count": 47,
   "id": "756b1c54",
   "metadata": {},
   "outputs": [
    {
     "name": "stdout",
     "output_type": "stream",
     "text": [
      "HelloHello\n"
     ]
    }
   ],
   "source": [
    "# * operator\n",
    "a = \"Hello\"\n",
    "b = 2\n",
    "print(a*b)"
   ]
  },
  {
   "cell_type": "markdown",
   "id": "f167edb2",
   "metadata": {},
   "source": [
    "### 2.2.6 Common Python String Methods\n",
    "\n",
    "There are numerous methods available with the string object.\n",
    "\n",
    "Some of the commonly used methods are lower(), upper(), join(), split(), find(), replaace() etc."
   ]
  },
  {
   "cell_type": "code",
   "execution_count": 48,
   "id": "1908769e",
   "metadata": {},
   "outputs": [
    {
     "data": {
      "text/plain": [
       "['Python', 'is', 'cool']"
      ]
     },
     "execution_count": 48,
     "metadata": {},
     "output_type": "execute_result"
    }
   ],
   "source": [
    "# split\n",
    "# str.split(str1) : split a string by str1\n",
    "s = \"Python is cool\"\n",
    "s.split(' ')"
   ]
  },
  {
   "cell_type": "code",
   "execution_count": 49,
   "id": "e0d7abd8",
   "metadata": {},
   "outputs": [
    {
     "data": {
      "text/plain": [
       "['2014', '02', '23']"
      ]
     },
     "execution_count": 49,
     "metadata": {},
     "output_type": "execute_result"
    }
   ],
   "source": [
    "s = \"2014-02-23\"\n",
    "s.split('-')"
   ]
  },
  {
   "cell_type": "code",
   "execution_count": 50,
   "id": "389c45c9",
   "metadata": {},
   "outputs": [
    {
     "data": {
      "text/plain": [
       "'PYthon'"
      ]
     },
     "execution_count": 50,
     "metadata": {},
     "output_type": "execute_result"
    }
   ],
   "source": [
    "# replace\n",
    "# str.replace(str1, str2) : replace the str1 by str1\n",
    "s = \"python\"\n",
    "s.replace('py', 'PY')"
   ]
  },
  {
   "cell_type": "code",
   "execution_count": 51,
   "id": "285bd2d5",
   "metadata": {},
   "outputs": [
    {
     "name": "stdout",
     "output_type": "stream",
     "text": [
      "python\n",
      "PYTHON\n"
     ]
    }
   ],
   "source": [
    "# Lower and upper\n",
    "# str.upper() : lower a string\n",
    "# str.lower() : upper a string\n",
    "\n",
    "s = \"PYthoN\"\n",
    "print(s.lower())\n",
    "print(s.upper())"
   ]
  },
  {
   "cell_type": "code",
   "execution_count": 52,
   "id": "8c8508ad",
   "metadata": {},
   "outputs": [
    {
     "data": {
      "text/plain": [
       "'Python--is--cool'"
      ]
     },
     "execution_count": 52,
     "metadata": {},
     "output_type": "execute_result"
    }
   ],
   "source": [
    "# join\n",
    "# str.join(iter) : join the string by itw\n",
    "\n",
    "\"--\".join(['Python', 'is', 'cool'])"
   ]
  },
  {
   "cell_type": "markdown",
   "id": "90e0e73d",
   "metadata": {},
   "source": [
    "### 2.2.7 String formating"
   ]
  },
  {
   "cell_type": "code",
   "execution_count": 53,
   "id": "3c540939",
   "metadata": {},
   "outputs": [
    {
     "data": {
      "text/plain": [
       "'My name is AI, age is 63'"
      ]
     },
     "execution_count": 53,
     "metadata": {},
     "output_type": "execute_result"
    }
   ],
   "source": [
    "# switch %s(string) and %d(integer) with AI and 63\n",
    "'My name is %s, age is %d'%('AI', 63)"
   ]
  },
  {
   "cell_type": "code",
   "execution_count": 54,
   "id": "db3eac24",
   "metadata": {},
   "outputs": [
    {
     "ename": "TypeError",
     "evalue": "%d format: a number is required, not str",
     "output_type": "error",
     "traceback": [
      "\u001b[1;31m---------------------------------------------------------------------------\u001b[0m",
      "\u001b[1;31mTypeError\u001b[0m                                 Traceback (most recent call last)",
      "\u001b[1;32m~\\AppData\\Local\\Temp\\ipykernel_12720\\639963642.py\u001b[0m in \u001b[0;36m<module>\u001b[1;34m\u001b[0m\n\u001b[1;32m----> 1\u001b[1;33m \u001b[1;34m'My name is %d, age is %s'\u001b[0m\u001b[1;33m%\u001b[0m\u001b[1;33m(\u001b[0m\u001b[1;34m'AI'\u001b[0m\u001b[1;33m,\u001b[0m \u001b[1;36m63\u001b[0m\u001b[1;33m)\u001b[0m\u001b[1;33m\u001b[0m\u001b[0m\n\u001b[0m",
      "\u001b[1;31mTypeError\u001b[0m: %d format: a number is required, not str"
     ]
    }
   ],
   "source": [
    "'My name is %d, age is %s'%('AI', 63)"
   ]
  },
  {
   "cell_type": "code",
   "execution_count": 58,
   "id": "76b05f59",
   "metadata": {},
   "outputs": [
    {
     "name": "stdout",
     "output_type": "stream",
     "text": [
      "Hola, mi nombre es Juan, tengo 33 años y vivo en New York y mi salario es de 1500.23 dolares\n"
     ]
    }
   ],
   "source": [
    "nombre = 'Juan'\n",
    "edad = 33\n",
    "ciudad = 'New York'\n",
    "salario = 1500.228\n",
    "\n",
    "mensaje = \"Hola, mi nombre es %s, tengo %d años y vivo en %s y mi salario es de %.2f dolares\" % (nombre, edad, ciudad, salario)\n",
    "\n",
    "print(mensaje)"
   ]
  },
  {
   "cell_type": "markdown",
   "id": "17aadede",
   "metadata": {},
   "source": [
    "### 2.2.7 Lists\n",
    "\n",
    "List are mutable sequences, typically use to store collections of homogeneous items.\n",
    "\n",
    "List = [obj1, obj2, ....]"
   ]
  },
  {
   "cell_type": "code",
   "execution_count": 59,
   "id": "63f4e281",
   "metadata": {},
   "outputs": [
    {
     "name": "stdout",
     "output_type": "stream",
     "text": [
      "[1, 2, 3]\n"
     ]
    }
   ],
   "source": [
    "l = [1, 2, 3]\n",
    "print(l)"
   ]
  },
  {
   "cell_type": "code",
   "execution_count": 60,
   "id": "e7c9bc91",
   "metadata": {},
   "outputs": [
    {
     "name": "stdout",
     "output_type": "stream",
     "text": [
      "2\n",
      "[1, 2]\n",
      "[1, 3]\n"
     ]
    }
   ],
   "source": [
    "# access items in a list\n",
    "\n",
    "print(l[1])\n",
    "print(l[0:2])\n",
    "print(l[0:3:2])"
   ]
  },
  {
   "cell_type": "code",
   "execution_count": 62,
   "id": "9ec6e903",
   "metadata": {},
   "outputs": [
    {
     "name": "stdout",
     "output_type": "stream",
     "text": [
      "[1, 0, 3]\n"
     ]
    }
   ],
   "source": [
    "# change items in a list\n",
    "l[1] = 0\n",
    "print(l)"
   ]
  },
  {
   "cell_type": "markdown",
   "id": "9f9420af",
   "metadata": {},
   "source": [
    "### 2.3.1 Lists Operators\n",
    "\n",
    "Same as string operators"
   ]
  },
  {
   "cell_type": "code",
   "execution_count": 63,
   "id": "1fbfd33d",
   "metadata": {},
   "outputs": [],
   "source": [
    "a = [1,4,8]\n",
    "b = [2,3]"
   ]
  },
  {
   "cell_type": "code",
   "execution_count": 64,
   "id": "e1145f77",
   "metadata": {},
   "outputs": [
    {
     "name": "stdout",
     "output_type": "stream",
     "text": [
      "[1, 4, 8, 1, 4, 8]\n",
      "[1, 4, 8, 2, 3]\n"
     ]
    }
   ],
   "source": [
    "# * operator\n",
    "print(a*2)\n",
    "# + operator\n",
    "print(a+b)"
   ]
  },
  {
   "cell_type": "markdown",
   "id": "87a77395",
   "metadata": {},
   "source": [
    "### 2.3.2 Lists Methods"
   ]
  },
  {
   "cell_type": "code",
   "execution_count": 67,
   "id": "f2530980",
   "metadata": {},
   "outputs": [
    {
     "name": "stdout",
     "output_type": "stream",
     "text": [
      "['cat', 'dog', 'bird', 'fish']\n"
     ]
    }
   ],
   "source": [
    "animals = ['cat', 'dog', 'bird']\n",
    "## list.append(obj): add one item to the end of a list\n",
    "animals.append('fish') # add fish\n",
    "print(animals)"
   ]
  },
  {
   "cell_type": "code",
   "execution_count": 68,
   "id": "6b97f4ab",
   "metadata": {},
   "outputs": [
    {
     "name": "stdout",
     "output_type": "stream",
     "text": [
      "['cat', 'dog', 'bird']\n"
     ]
    }
   ],
   "source": [
    "# list.remove(obj): delet one or more items from a list\n",
    "\n",
    "animals.remove('fish')\n",
    "print(animals)"
   ]
  },
  {
   "cell_type": "code",
   "execution_count": 70,
   "id": "6add4a6b",
   "metadata": {},
   "outputs": [
    {
     "name": "stdout",
     "output_type": "stream",
     "text": [
      "['cat', 'dog', 'fish', 'bird']\n"
     ]
    }
   ],
   "source": [
    "# list.insert(index, obj): insert an item at the defined index\n",
    "animals.insert(2, 'fish') # insert fish at index 2\n",
    "print(animals)"
   ]
  },
  {
   "cell_type": "code",
   "execution_count": 72,
   "id": "2a51692f",
   "metadata": {},
   "outputs": [
    {
     "name": "stdout",
     "output_type": "stream",
     "text": [
      "bird\n",
      "['cat', 'dog', 'fish']\n"
     ]
    }
   ],
   "source": [
    "# list.pop([index = -1]): removes and returns the last item if the index is not provided\n",
    "print(animals.pop()) # removes the item at index -1 and returns the left items\n",
    "print(animals)"
   ]
  },
  {
   "cell_type": "code",
   "execution_count": 76,
   "id": "a408fdba",
   "metadata": {},
   "outputs": [
    {
     "name": "stdout",
     "output_type": "stream",
     "text": [
      "black\n",
      "['red', 'blue', 'yellow', 'pink']\n"
     ]
    }
   ],
   "source": [
    "colors = ['red', 'blue', 'yellow', 'black', 'pink']\n",
    "print(colors.pop(3))\n",
    "print(colors)"
   ]
  },
  {
   "cell_type": "code",
   "execution_count": 78,
   "id": "6b68cc5d",
   "metadata": {},
   "outputs": [
    {
     "name": "stdout",
     "output_type": "stream",
     "text": [
      "0 cat\n",
      "1 dog\n",
      "2 fish\n"
     ]
    }
   ],
   "source": [
    "# enumerate(sequence): adds counter to an iterable and returns it.\n",
    "for i, x in enumerate(animals):\n",
    "    print(i, x)"
   ]
  },
  {
   "cell_type": "code",
   "execution_count": 80,
   "id": "e2dfc7bb",
   "metadata": {},
   "outputs": [
    {
     "name": "stdout",
     "output_type": "stream",
     "text": [
      "[1, 2, 12, 32, 45, 111]\n"
     ]
    }
   ],
   "source": [
    "# list sort\n",
    "\n",
    "list1 = [12, 2, 45, 32, 111, 1]\n",
    "# list.sort(cmp=None, key=None, reverse=False): sorts the elements of a given list in a specific ascending\n",
    "list1.sort()\n",
    "print(list1)"
   ]
  },
  {
   "cell_type": "code",
   "execution_count": 81,
   "id": "0fb832ca",
   "metadata": {},
   "outputs": [
    {
     "name": "stdout",
     "output_type": "stream",
     "text": [
      "[111, 45, 32, 12, 2, 1]\n"
     ]
    }
   ],
   "source": [
    "# list.reverse(): reverses the elements of the list.\n",
    "\n",
    "list1.reverse() # reverses list1\n",
    "print(list1)"
   ]
  },
  {
   "cell_type": "code",
   "execution_count": 82,
   "id": "b1465346",
   "metadata": {},
   "outputs": [
    {
     "name": "stdout",
     "output_type": "stream",
     "text": [
      "[1, 9, 36, 4]\n"
     ]
    }
   ],
   "source": [
    "# list Comprehension\n",
    "list2 = [1, 3, 6, 2]\n",
    "squares = [x**2 for x in list2] # definde and create lists based on existing lists\n",
    "print(squares)"
   ]
  },
  {
   "cell_type": "code",
   "execution_count": 83,
   "id": "d09b6ac7",
   "metadata": {},
   "outputs": [
    {
     "name": "stdout",
     "output_type": "stream",
     "text": [
      "1\n",
      "3\n",
      "6\n",
      "2\n"
     ]
    }
   ],
   "source": [
    "for x in list2:\n",
    "    print(x)"
   ]
  },
  {
   "cell_type": "markdown",
   "id": "f5da2753",
   "metadata": {},
   "source": [
    "### 2.3.3 List slicing and indexing\n",
    "\n",
    "List indexing returns the index of the specified element in the list"
   ]
  },
  {
   "cell_type": "code",
   "execution_count": 84,
   "id": "178d94d5",
   "metadata": {},
   "outputs": [
    {
     "data": {
      "text/plain": [
       "4"
      ]
     },
     "execution_count": 84,
     "metadata": {},
     "output_type": "execute_result"
    }
   ],
   "source": [
    "l = [[1,3], [4,5]]\n",
    "l[1][0] # el primer elemento del segundo objecto de la lista"
   ]
  },
  {
   "cell_type": "code",
   "execution_count": 86,
   "id": "302bef73",
   "metadata": {},
   "outputs": [
    {
     "data": {
      "text/plain": [
       "3"
      ]
     },
     "execution_count": 86,
     "metadata": {},
     "output_type": "execute_result"
    }
   ],
   "source": [
    "l[0][1] # el segundo elemento del primer objecto de la lista"
   ]
  },
  {
   "cell_type": "markdown",
   "id": "125a095b",
   "metadata": {},
   "source": [
    "List slicing return a slice object that can be used to slice strings, list , tuple etc.\n",
    "\n",
    "list[start:End:step]\n",
    "\n",
    "    . start: where slicing start\n",
    "    . end: where slicing stops\n",
    "    . step: determines the increment between each index for slicing. Defaults to None if not provided."
   ]
  },
  {
   "cell_type": "code",
   "execution_count": 87,
   "id": "5c19af52",
   "metadata": {},
   "outputs": [
    {
     "data": {
      "text/plain": [
       "[0, 2, 4]"
      ]
     },
     "execution_count": 87,
     "metadata": {},
     "output_type": "execute_result"
    }
   ],
   "source": [
    "l = [0 ,1 , 2, 3, 4, 5]\n",
    "l[::2]"
   ]
  },
  {
   "cell_type": "code",
   "execution_count": 88,
   "id": "e3ef1f9a",
   "metadata": {},
   "outputs": [
    {
     "data": {
      "text/plain": [
       "[1, 3]"
      ]
     },
     "execution_count": 88,
     "metadata": {},
     "output_type": "execute_result"
    }
   ],
   "source": [
    "l[1:4:2]"
   ]
  },
  {
   "cell_type": "markdown",
   "id": "3f379a30",
   "metadata": {},
   "source": [
    "## 2.4 Tuples\n",
    "\n",
    "Tuples are immutable sequences, typically used to store collection of heterogeneous data (such as the 2-tuples producted by the enumerate() built-in). Tuples are also used for cases where an immutable sequence of homogeneous data is needed(such as allowing storage in a set or dict instances)\n",
    "\n",
    "\n",
    "(obj1, obj2, ...)"
   ]
  },
  {
   "cell_type": "code",
   "execution_count": 89,
   "id": "e80709a6",
   "metadata": {},
   "outputs": [
    {
     "name": "stdout",
     "output_type": "stream",
     "text": [
      "(1, [1, 2], 'Python')\n",
      "<class 'tuple'>\n"
     ]
    }
   ],
   "source": [
    "# create a tuple\n",
    "\n",
    "t = (1, [1, 2], \"Python\")\n",
    "print(t)\n",
    "print(type(t))"
   ]
  },
  {
   "cell_type": "code",
   "execution_count": 90,
   "id": "82b5e827",
   "metadata": {},
   "outputs": [
    {
     "name": "stdout",
     "output_type": "stream",
     "text": [
      "t1 <class 'int'>\n",
      "t2 <class 'tuple'>\n"
     ]
    }
   ],
   "source": [
    "# create a tuple with an item\n",
    "\n",
    "t1 = (5)\n",
    "t2 = (5, ) # \", \" is needed\n",
    "print(\"t1\", type(t1))\n",
    "print(\"t2\", type(t2))"
   ]
  },
  {
   "cell_type": "code",
   "execution_count": 91,
   "id": "21475275",
   "metadata": {},
   "outputs": [
    {
     "name": "stdout",
     "output_type": "stream",
     "text": [
      "2\n"
     ]
    }
   ],
   "source": [
    "# tuple indexing\n",
    "t = (1,2,3)\n",
    "print(t[1])"
   ]
  },
  {
   "cell_type": "code",
   "execution_count": 92,
   "id": "15d4e45c",
   "metadata": {},
   "outputs": [
    {
     "ename": "TypeError",
     "evalue": "'tuple' object does not support item assignment",
     "output_type": "error",
     "traceback": [
      "\u001b[1;31m---------------------------------------------------------------------------\u001b[0m",
      "\u001b[1;31mTypeError\u001b[0m                                 Traceback (most recent call last)",
      "\u001b[1;32m~\\AppData\\Local\\Temp\\ipykernel_12720\\1244880068.py\u001b[0m in \u001b[0;36m<module>\u001b[1;34m\u001b[0m\n\u001b[0;32m      1\u001b[0m \u001b[1;31m# tuple unchangealbe\u001b[0m\u001b[1;33m\u001b[0m\u001b[1;33m\u001b[0m\u001b[0m\n\u001b[1;32m----> 2\u001b[1;33m \u001b[0mt\u001b[0m\u001b[1;33m[\u001b[0m\u001b[1;36m1\u001b[0m\u001b[1;33m]\u001b[0m \u001b[1;33m=\u001b[0m \u001b[1;36m0\u001b[0m\u001b[1;33m\u001b[0m\u001b[0m\n\u001b[0m",
      "\u001b[1;31mTypeError\u001b[0m: 'tuple' object does not support item assignment"
     ]
    }
   ],
   "source": [
    "# tuple unchangealbe\n",
    "t[1] = 0"
   ]
  },
  {
   "cell_type": "markdown",
   "id": "b71da2b7",
   "metadata": {},
   "source": [
    "## 2.5 Dictionaries\n",
    "\n",
    "A dictionary is an unordered collection of items. Each item of a dictionary has a key:value pair. The keys within one dictionary are unique- If you store data using a key that is already in use, the old value associated with that key is forgotten. Extracting a value using a non-existen key will cause error.\n",
    "\n",
    "Dicitonaries are unordered, changeable and does not allow duplicates. A pair of braces create an empty dictionary: {}.\n",
    "\n",
    "{key:value}"
   ]
  },
  {
   "cell_type": "code",
   "execution_count": 93,
   "id": "54b81b93",
   "metadata": {},
   "outputs": [],
   "source": [
    "dict1 = {'color':'blue', 'food':'ceviche'}\n",
    "dict1['color'] = 'red'"
   ]
  },
  {
   "cell_type": "code",
   "execution_count": 94,
   "id": "586dff17",
   "metadata": {},
   "outputs": [
    {
     "name": "stdout",
     "output_type": "stream",
     "text": [
      "{'color': 'red', 'food': 'ceviche'}\n"
     ]
    }
   ],
   "source": [
    "print(dict1)"
   ]
  },
  {
   "cell_type": "code",
   "execution_count": 95,
   "id": "6c76eb9d",
   "metadata": {},
   "outputs": [
    {
     "name": "stdout",
     "output_type": "stream",
     "text": [
      "{'food': 'Spam', 'quantity': 4, 'color': 'pink'}\n",
      "{'food': 'Spam', 'quantity': 4, 'color': 'pink'}\n",
      "{'food': 'Spam', 'quantity': 4, 'color': 'pink'}\n"
     ]
    }
   ],
   "source": [
    "# create a dictionary in three different ways\n",
    "x = {'food':'Spam', 'quantity': 4, 'color': 'pink'}\n",
    "x2 = dict(food='Spam', quantity=4, color='pink')\n",
    "x3 = dict([(\"food\", \"Spam\"), (\"quantity\", 4), (\"color\", \"pink\")])\n",
    "\n",
    "print(x)\n",
    "print(x2)\n",
    "print(x3)"
   ]
  },
  {
   "cell_type": "markdown",
   "id": "522ad62f",
   "metadata": {},
   "source": [
    "### 2.5.1 Access items in dictionaries"
   ]
  },
  {
   "cell_type": "code",
   "execution_count": 96,
   "id": "ab3c8024",
   "metadata": {},
   "outputs": [
    {
     "name": "stdout",
     "output_type": "stream",
     "text": [
      "Spam\n"
     ]
    }
   ],
   "source": [
    "# Extract values in a dictionary\n",
    "print(x[\"food\"])"
   ]
  },
  {
   "cell_type": "code",
   "execution_count": 98,
   "id": "cb331c62",
   "metadata": {},
   "outputs": [
    {
     "ename": "KeyError",
     "evalue": "'a'",
     "output_type": "error",
     "traceback": [
      "\u001b[1;31m---------------------------------------------------------------------------\u001b[0m",
      "\u001b[1;31mKeyError\u001b[0m                                  Traceback (most recent call last)",
      "\u001b[1;32m~\\AppData\\Local\\Temp\\ipykernel_12720\\4200637571.py\u001b[0m in \u001b[0;36m<module>\u001b[1;34m\u001b[0m\n\u001b[1;32m----> 1\u001b[1;33m \u001b[0mprint\u001b[0m\u001b[1;33m(\u001b[0m\u001b[0mx\u001b[0m\u001b[1;33m[\u001b[0m\u001b[1;34m\"a\"\u001b[0m\u001b[1;33m]\u001b[0m\u001b[1;33m)\u001b[0m \u001b[1;31m# report an error when extract a value using a non-existent key\u001b[0m\u001b[1;33m\u001b[0m\u001b[0m\n\u001b[0m",
      "\u001b[1;31mKeyError\u001b[0m: 'a'"
     ]
    }
   ],
   "source": [
    "print(x[\"a\"]) # report an error when extract a value using a non-existent key"
   ]
  },
  {
   "cell_type": "code",
   "execution_count": 99,
   "id": "7505312e",
   "metadata": {},
   "outputs": [
    {
     "name": "stdout",
     "output_type": "stream",
     "text": [
      "Spam\n",
      "None\n",
      "cannot find a\n"
     ]
    }
   ],
   "source": [
    "# extract values by get(key,[\"str\"])\n",
    "\n",
    "print(x.get(\"food\"))\n",
    "print(x.get(\"a\")) # by get() method, returns none when extract a value using a non-existen key\n",
    "print(x.get(\"a\", \"cannot find a\"))"
   ]
  },
  {
   "cell_type": "code",
   "execution_count": 101,
   "id": "94febe09",
   "metadata": {},
   "outputs": [
    {
     "name": "stdout",
     "output_type": "stream",
     "text": [
      "dict_keys(['food', 'quantity', 'color'])\n",
      "dict_values(['Spam', 4, 'pink'])\n",
      "dict_items([('food', 'Spam'), ('quantity', 4), ('color', 'pink')])\n"
     ]
    }
   ],
   "source": [
    "# extract al keys\n",
    "print(x.keys())\n",
    "\n",
    "# extract all values\n",
    "print(x.values())\n",
    "\n",
    "# extract all key:value pairs\n",
    "print(x.items())"
   ]
  },
  {
   "cell_type": "code",
   "execution_count": 102,
   "id": "8b6db3e2",
   "metadata": {},
   "outputs": [
    {
     "name": "stdout",
     "output_type": "stream",
     "text": [
      "{'food': 'Spam', 'quantity': 4, 'color': 'pink', 'x_key': 'x_val'}\n"
     ]
    }
   ],
   "source": [
    "# insert an item to a dictionary\n",
    "\n",
    "x[\"x_key\"] = \"x_val\"\n",
    "print(x)"
   ]
  },
  {
   "cell_type": "code",
   "execution_count": 103,
   "id": "c0ddc2d3",
   "metadata": {},
   "outputs": [
    {
     "name": "stdout",
     "output_type": "stream",
     "text": [
      "dict_items([('food', 'Spam'), ('quantity', 4), ('color', 'pink'), ('x_key', 'x_val')])\n"
     ]
    }
   ],
   "source": [
    "print(x.items())"
   ]
  },
  {
   "cell_type": "code",
   "execution_count": 105,
   "id": "a1cc542f",
   "metadata": {},
   "outputs": [
    {
     "name": "stdout",
     "output_type": "stream",
     "text": [
      "{'food': 'Spam', 'quantity': 4, 'color': 'pink', 'x_key': 0}\n"
     ]
    }
   ],
   "source": [
    "# change an item in a dictionary\n",
    "\n",
    "x[\"x_key\"] = 0\n",
    "\n",
    "print(x)"
   ]
  },
  {
   "cell_type": "markdown",
   "id": "eb8804e2",
   "metadata": {},
   "source": [
    "## 2.6 Sets\n",
    "\n",
    "A set is an unordered collection with no duplicate elements.\n",
    "\n",
    "Set objects also support mathematical operation like union, intersection, difference, and symmetric difference.\n",
    "\n",
    "Curly braces or the set() function can be used to create sets. Note: to create an empty set you have to use set(), not {}: the latter create an empty dictionary\n",
    "\n",
    "(obj1, obj2)"
   ]
  },
  {
   "cell_type": "code",
   "execution_count": 111,
   "id": "5bcf57c3",
   "metadata": {},
   "outputs": [
    {
     "name": "stdout",
     "output_type": "stream",
     "text": [
      "<class 'set'>\n",
      "{'Prince', 'Techs'}\n"
     ]
    }
   ],
   "source": [
    "sample_set = {'Prince', 'Techs'}\n",
    "print(type(sample_set))\n",
    "print(sample_set)"
   ]
  },
  {
   "cell_type": "code",
   "execution_count": 110,
   "id": "96a5cf3b",
   "metadata": {},
   "outputs": [
    {
     "name": "stdout",
     "output_type": "stream",
     "text": [
      "<class 'set'>\n",
      "{'Prince', 'Techs'}\n"
     ]
    }
   ],
   "source": [
    "sample_set2 = set(['Prince', 'Techs'])\n",
    "print(type(sample_set2))\n",
    "print(sample_set2)"
   ]
  },
  {
   "cell_type": "code",
   "execution_count": 114,
   "id": "83a78e67",
   "metadata": {},
   "outputs": [
    {
     "name": "stdout",
     "output_type": "stream",
     "text": [
      "False\n",
      "True\n"
     ]
    }
   ],
   "source": [
    "print('Data' in sample_set) # the in keyword is used to check is a value is present in a sequence\n",
    "print('Techs' in sample_set)"
   ]
  },
  {
   "cell_type": "code",
   "execution_count": 115,
   "id": "45fd8cf2",
   "metadata": {},
   "outputs": [
    {
     "name": "stdout",
     "output_type": "stream",
     "text": [
      "{'Data', 'Prince', 'Techs'}\n",
      "3\n"
     ]
    }
   ],
   "source": [
    "# set.add(obj): add a given element to a set. If the element is already present,\n",
    "# it doesn't add any element\n",
    "\n",
    "sample_set.add('Data')\n",
    "print(sample_set)\n",
    "print(len(sample_set))"
   ]
  },
  {
   "cell_type": "code",
   "execution_count": 116,
   "id": "ad4fa7a6",
   "metadata": {},
   "outputs": [
    {
     "name": "stdout",
     "output_type": "stream",
     "text": [
      "{'Prince', 'Techs'}\n"
     ]
    }
   ],
   "source": [
    "# set.remove(obj): removes an element from a set\n",
    "\n",
    "sample_set.remove('Data') # remove data\n",
    "print(sample_set)"
   ]
  },
  {
   "cell_type": "code",
   "execution_count": 117,
   "id": "7ebc1077",
   "metadata": {},
   "outputs": [
    {
     "name": "stdout",
     "output_type": "stream",
     "text": [
      "[1, 3, 5]\n"
     ]
    }
   ],
   "source": [
    "list2 = [1, 3, 1, 5, 3]\n",
    "print(list(set(list2))) # set has no duplicate elements, thus can be used to remove duplicates"
   ]
  },
  {
   "cell_type": "code",
   "execution_count": 118,
   "id": "6670f650",
   "metadata": {},
   "outputs": [
    {
     "ename": "AttributeError",
     "evalue": "'frozenset' object has no attribute 'add'",
     "output_type": "error",
     "traceback": [
      "\u001b[1;31m---------------------------------------------------------------------------\u001b[0m",
      "\u001b[1;31mAttributeError\u001b[0m                            Traceback (most recent call last)",
      "\u001b[1;32m~\\AppData\\Local\\Temp\\ipykernel_12720\\129302077.py\u001b[0m in \u001b[0;36m<module>\u001b[1;34m\u001b[0m\n\u001b[0;32m      1\u001b[0m \u001b[0msample_set\u001b[0m \u001b[1;33m=\u001b[0m \u001b[0mfrozenset\u001b[0m\u001b[1;33m(\u001b[0m\u001b[0msample_set\u001b[0m\u001b[1;33m)\u001b[0m \u001b[1;31m# change to unmutable a set\u001b[0m\u001b[1;33m\u001b[0m\u001b[0m\n\u001b[1;32m----> 2\u001b[1;33m \u001b[0msample_set\u001b[0m\u001b[1;33m.\u001b[0m\u001b[0madd\u001b[0m\u001b[1;33m(\u001b[0m\u001b[1;34m'cat'\u001b[0m\u001b[1;33m)\u001b[0m\u001b[1;33m\u001b[0m\u001b[0m\n\u001b[0m",
      "\u001b[1;31mAttributeError\u001b[0m: 'frozenset' object has no attribute 'add'"
     ]
    }
   ],
   "source": [
    "sample_set = frozenset(sample_set) # change to unmutable a set\n",
    "sample_set.add('cat')"
   ]
  },
  {
   "cell_type": "markdown",
   "id": "a86b5da1",
   "metadata": {},
   "source": [
    "## 2.7 Operations on data\n",
    "\n",
    "### 2.7.1 Deep copy and shallow copy\n",
    "\n",
    "Assignment statements in Python do not copy objects, they create bindings between a target and an object. For collections that are mutable or contain mutable items, a copy is sometimes needed so one can change one copy without changing the other.\n",
    "\n",
    "copy.copy(x)\n",
    "- Return a shallow copy of x.\n",
    "\n",
    "copy.deepcopy(x[, memo])\n",
    "- Return a deep copy of x\n",
    "\n",
    "The difference between shallow and deep copy is only relevant for compound object (objects that contain other object, like list or class instances):\n",
    " - A shallow copy constructs a new compound object and then (to the extent possible) inserts references into it to the objects found in the original\n",
    " - A deep copy constructs a new compund object and then, recursively, inserts copies into it of the objects found in the original"
   ]
  },
  {
   "cell_type": "code",
   "execution_count": 119,
   "id": "3a3fb9d6",
   "metadata": {},
   "outputs": [
    {
     "name": "stdout",
     "output_type": "stream",
     "text": [
      "[99, 2, 3, [4, 5]]\n"
     ]
    }
   ],
   "source": [
    "# data assignment\n",
    "\n",
    "a = [1,2,3,[4,5]]\n",
    "b = a # assign a to b\n",
    "b[0] = 99\n",
    "print(a) # a also has modified"
   ]
  },
  {
   "cell_type": "code",
   "execution_count": 120,
   "id": "9c403575",
   "metadata": {},
   "outputs": [
    {
     "name": "stdout",
     "output_type": "stream",
     "text": [
      "[1, 2, 3, [4, 5]]\n",
      "[99, 2, 3, [4, 5]]\n"
     ]
    }
   ],
   "source": [
    "# shallow copy \n",
    "a = [1,2,3,[4,5]]\n",
    "b = a.copy() # shallow copy\n",
    "b[0] = 99\n",
    "print(a)\n",
    "print(b)"
   ]
  },
  {
   "cell_type": "code",
   "execution_count": 122,
   "id": "7a44c006",
   "metadata": {},
   "outputs": [
    {
     "name": "stdout",
     "output_type": "stream",
     "text": [
      "[1, 2, 3, [33, 5]]\n",
      "[99, 2, 3, [33, 5]]\n"
     ]
    }
   ],
   "source": [
    "b[3][0] = 33\n",
    "print(a)\n",
    "print(b)"
   ]
  },
  {
   "attachments": {
    "image-2.png": {
     "image/png": "[encoded data removed]"
    }
   },
   "cell_type": "markdown",
   "id": "d9040e8a",
   "metadata": {},
   "source": [
    "![image-2.png](attachment:image-2.png)"
   ]
  },
  {
   "cell_type": "code",
   "execution_count": 124,
   "id": "474df7d3",
   "metadata": {},
   "outputs": [
    {
     "name": "stdout",
     "output_type": "stream",
     "text": [
      "[1, 2, 3, [4, 5]]\n",
      "[1, 2, 3, [100, 5]]\n"
     ]
    }
   ],
   "source": [
    "## deep copy\n",
    "\n",
    "import copy\n",
    "\n",
    "a = [1, 2, 3, [4, 5]]\n",
    "b = copy.deepcopy(a) # deep copy\n",
    "b[3][0] = 100\n",
    "print(a)\n",
    "print(b)"
   ]
  },
  {
   "cell_type": "markdown",
   "id": "b5661fba",
   "metadata": {},
   "source": [
    "### 2.7.2 Operators"
   ]
  },
  {
   "cell_type": "code",
   "execution_count": 125,
   "id": "b16156dd",
   "metadata": {},
   "outputs": [
    {
     "name": "stdout",
     "output_type": "stream",
     "text": [
      "a+=1: 6\n",
      "a-=1: 5\n",
      "a*=2 10\n",
      "a/=2: 5.0\n"
     ]
    }
   ],
   "source": [
    "### assignment operators\n",
    "a = 5\n",
    "a += 1\n",
    "print(\"a+=1:\", a)\n",
    "a-=1\n",
    "print(\"a-=1:\", a)\n",
    "a*=2\n",
    "print(\"a*=2\", a)\n",
    "a/=2\n",
    "print(\"a/=2:\",a)"
   ]
  },
  {
   "cell_type": "code",
   "execution_count": 126,
   "id": "ba5ff1ee",
   "metadata": {},
   "outputs": [
    {
     "name": "stdout",
     "output_type": "stream",
     "text": [
      "False\n",
      "True\n",
      "True\n",
      "False\n"
     ]
    }
   ],
   "source": [
    "# comparison operators\n",
    "print(1>=2)\n",
    "print(1<=2)\n",
    "print(1!=2)\n",
    "print(1==2)"
   ]
  },
  {
   "cell_type": "code",
   "execution_count": 127,
   "id": "55eb3f19",
   "metadata": {},
   "outputs": [
    {
     "data": {
      "text/plain": [
       "False"
      ]
     },
     "execution_count": 127,
     "metadata": {},
     "output_type": "execute_result"
    }
   ],
   "source": [
    "# logical operators\n",
    "True and False"
   ]
  },
  {
   "cell_type": "code",
   "execution_count": 128,
   "id": "10afc1c2",
   "metadata": {},
   "outputs": [
    {
     "data": {
      "text/plain": [
       "False"
      ]
     },
     "execution_count": 128,
     "metadata": {},
     "output_type": "execute_result"
    }
   ],
   "source": [
    "not True"
   ]
  },
  {
   "cell_type": "code",
   "execution_count": 129,
   "id": "a99ddf40",
   "metadata": {},
   "outputs": [
    {
     "data": {
      "text/plain": [
       "True"
      ]
     },
     "execution_count": 129,
     "metadata": {},
     "output_type": "execute_result"
    }
   ],
   "source": [
    "# membership operators\n",
    "\n",
    "a = [1,2,3]\n",
    "1 in a"
   ]
  },
  {
   "cell_type": "code",
   "execution_count": 130,
   "id": "955e5790",
   "metadata": {},
   "outputs": [
    {
     "data": {
      "text/plain": [
       "True"
      ]
     },
     "execution_count": 130,
     "metadata": {},
     "output_type": "execute_result"
    }
   ],
   "source": [
    "4 not in a"
   ]
  },
  {
   "cell_type": "code",
   "execution_count": 131,
   "id": "2678af62",
   "metadata": {},
   "outputs": [
    {
     "name": "stdout",
     "output_type": "stream",
     "text": [
      "True\n",
      "False\n",
      "True\n"
     ]
    }
   ],
   "source": [
    "# identity operators\n",
    "a = [1,2]\n",
    "b = a\n",
    "c = a.copy()\n",
    "\n",
    "print(a is b)\n",
    "print(a is c)\n",
    "print(a == b == c)"
   ]
  },
  {
   "cell_type": "code",
   "execution_count": null,
   "id": "217ab1f0",
   "metadata": {},
   "outputs": [],
   "source": []
  }
 ],
 "metadata": {
  "kernelspec": {
   "display_name": "Python 3 (ipykernel)",
   "language": "python",
   "name": "python3"
  },
  "language_info": {
   "codemirror_mode": {
    "name": "ipython",
    "version": 3
   },
   "file_extension": ".py",
   "mimetype": "text/x-python",
   "name": "python",
   "nbconvert_exporter": "python",
   "pygments_lexer": "ipython3",
   "version": "3.7.0"
  }
 },
 "nbformat": 4,
 "nbformat_minor": 5
}
